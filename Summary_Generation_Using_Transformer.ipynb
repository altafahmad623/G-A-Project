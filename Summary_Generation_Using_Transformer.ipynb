{
  "nbformat": 4,
  "nbformat_minor": 0,
  "metadata": {
    "colab": {
      "name": "Summary Generation Using Transformer.ipynb",
      "provenance": [],
      "authorship_tag": "ABX9TyPt+ZhxvtivN7GyFJU79bIS",
      "include_colab_link": true
    },
    "kernelspec": {
      "name": "python3",
      "display_name": "Python 3"
    },
    "widgets": {
      "application/vnd.jupyter.widget-state+json": {
        "7316e5fd3cf5451884bf62f46b8ab674": {
          "model_module": "@jupyter-widgets/controls",
          "model_name": "HBoxModel",
          "state": {
            "_view_name": "HBoxView",
            "_dom_classes": [],
            "_model_name": "HBoxModel",
            "_view_module": "@jupyter-widgets/controls",
            "_model_module_version": "1.5.0",
            "_view_count": null,
            "_view_module_version": "1.5.0",
            "box_style": "",
            "layout": "IPY_MODEL_99388548958140ea889e7d5f692c894a",
            "_model_module": "@jupyter-widgets/controls",
            "children": [
              "IPY_MODEL_76584a8d2e764733a58e7e1e39caaa1a",
              "IPY_MODEL_315cbbe87b5d4c28bdcd9a088fe06129"
            ]
          }
        },
        "99388548958140ea889e7d5f692c894a": {
          "model_module": "@jupyter-widgets/base",
          "model_name": "LayoutModel",
          "state": {
            "_view_name": "LayoutView",
            "grid_template_rows": null,
            "right": null,
            "justify_content": null,
            "_view_module": "@jupyter-widgets/base",
            "overflow": null,
            "_model_module_version": "1.2.0",
            "_view_count": null,
            "flex_flow": null,
            "width": null,
            "min_width": null,
            "border": null,
            "align_items": null,
            "bottom": null,
            "_model_module": "@jupyter-widgets/base",
            "top": null,
            "grid_column": null,
            "overflow_y": null,
            "overflow_x": null,
            "grid_auto_flow": null,
            "grid_area": null,
            "grid_template_columns": null,
            "flex": null,
            "_model_name": "LayoutModel",
            "justify_items": null,
            "grid_row": null,
            "max_height": null,
            "align_content": null,
            "visibility": null,
            "align_self": null,
            "height": null,
            "min_height": null,
            "padding": null,
            "grid_auto_rows": null,
            "grid_gap": null,
            "max_width": null,
            "order": null,
            "_view_module_version": "1.2.0",
            "grid_template_areas": null,
            "object_position": null,
            "object_fit": null,
            "grid_auto_columns": null,
            "margin": null,
            "display": null,
            "left": null
          }
        },
        "76584a8d2e764733a58e7e1e39caaa1a": {
          "model_module": "@jupyter-widgets/controls",
          "model_name": "FloatProgressModel",
          "state": {
            "_view_name": "ProgressView",
            "style": "IPY_MODEL_941d175b64b74400a13f7985eda521a6",
            "_dom_classes": [],
            "description": "Downloading: 100%",
            "_model_name": "FloatProgressModel",
            "bar_style": "success",
            "max": 1621,
            "_view_module": "@jupyter-widgets/controls",
            "_model_module_version": "1.5.0",
            "value": 1621,
            "_view_count": null,
            "_view_module_version": "1.5.0",
            "orientation": "horizontal",
            "min": 0,
            "description_tooltip": null,
            "_model_module": "@jupyter-widgets/controls",
            "layout": "IPY_MODEL_f2cd136b92fc41f7875ea2f5a284792d"
          }
        },
        "315cbbe87b5d4c28bdcd9a088fe06129": {
          "model_module": "@jupyter-widgets/controls",
          "model_name": "HTMLModel",
          "state": {
            "_view_name": "HTMLView",
            "style": "IPY_MODEL_663f537aecd1422bb83d743810d4dde1",
            "_dom_classes": [],
            "description": "",
            "_model_name": "HTMLModel",
            "placeholder": "​",
            "_view_module": "@jupyter-widgets/controls",
            "_model_module_version": "1.5.0",
            "value": " 1.62k/1.62k [00:01&lt;00:00, 1.14kB/s]",
            "_view_count": null,
            "_view_module_version": "1.5.0",
            "description_tooltip": null,
            "_model_module": "@jupyter-widgets/controls",
            "layout": "IPY_MODEL_4adbfa0132914259a1cf457f37a43c55"
          }
        },
        "941d175b64b74400a13f7985eda521a6": {
          "model_module": "@jupyter-widgets/controls",
          "model_name": "ProgressStyleModel",
          "state": {
            "_view_name": "StyleView",
            "_model_name": "ProgressStyleModel",
            "description_width": "initial",
            "_view_module": "@jupyter-widgets/base",
            "_model_module_version": "1.5.0",
            "_view_count": null,
            "_view_module_version": "1.2.0",
            "bar_color": null,
            "_model_module": "@jupyter-widgets/controls"
          }
        },
        "f2cd136b92fc41f7875ea2f5a284792d": {
          "model_module": "@jupyter-widgets/base",
          "model_name": "LayoutModel",
          "state": {
            "_view_name": "LayoutView",
            "grid_template_rows": null,
            "right": null,
            "justify_content": null,
            "_view_module": "@jupyter-widgets/base",
            "overflow": null,
            "_model_module_version": "1.2.0",
            "_view_count": null,
            "flex_flow": null,
            "width": null,
            "min_width": null,
            "border": null,
            "align_items": null,
            "bottom": null,
            "_model_module": "@jupyter-widgets/base",
            "top": null,
            "grid_column": null,
            "overflow_y": null,
            "overflow_x": null,
            "grid_auto_flow": null,
            "grid_area": null,
            "grid_template_columns": null,
            "flex": null,
            "_model_name": "LayoutModel",
            "justify_items": null,
            "grid_row": null,
            "max_height": null,
            "align_content": null,
            "visibility": null,
            "align_self": null,
            "height": null,
            "min_height": null,
            "padding": null,
            "grid_auto_rows": null,
            "grid_gap": null,
            "max_width": null,
            "order": null,
            "_view_module_version": "1.2.0",
            "grid_template_areas": null,
            "object_position": null,
            "object_fit": null,
            "grid_auto_columns": null,
            "margin": null,
            "display": null,
            "left": null
          }
        },
        "663f537aecd1422bb83d743810d4dde1": {
          "model_module": "@jupyter-widgets/controls",
          "model_name": "DescriptionStyleModel",
          "state": {
            "_view_name": "StyleView",
            "_model_name": "DescriptionStyleModel",
            "description_width": "",
            "_view_module": "@jupyter-widgets/base",
            "_model_module_version": "1.5.0",
            "_view_count": null,
            "_view_module_version": "1.2.0",
            "_model_module": "@jupyter-widgets/controls"
          }
        },
        "4adbfa0132914259a1cf457f37a43c55": {
          "model_module": "@jupyter-widgets/base",
          "model_name": "LayoutModel",
          "state": {
            "_view_name": "LayoutView",
            "grid_template_rows": null,
            "right": null,
            "justify_content": null,
            "_view_module": "@jupyter-widgets/base",
            "overflow": null,
            "_model_module_version": "1.2.0",
            "_view_count": null,
            "flex_flow": null,
            "width": null,
            "min_width": null,
            "border": null,
            "align_items": null,
            "bottom": null,
            "_model_module": "@jupyter-widgets/base",
            "top": null,
            "grid_column": null,
            "overflow_y": null,
            "overflow_x": null,
            "grid_auto_flow": null,
            "grid_area": null,
            "grid_template_columns": null,
            "flex": null,
            "_model_name": "LayoutModel",
            "justify_items": null,
            "grid_row": null,
            "max_height": null,
            "align_content": null,
            "visibility": null,
            "align_self": null,
            "height": null,
            "min_height": null,
            "padding": null,
            "grid_auto_rows": null,
            "grid_gap": null,
            "max_width": null,
            "order": null,
            "_view_module_version": "1.2.0",
            "grid_template_areas": null,
            "object_position": null,
            "object_fit": null,
            "grid_auto_columns": null,
            "margin": null,
            "display": null,
            "left": null
          }
        },
        "ea5aadaaf35b4ea7b01f86b0f1ff9c37": {
          "model_module": "@jupyter-widgets/controls",
          "model_name": "HBoxModel",
          "state": {
            "_view_name": "HBoxView",
            "_dom_classes": [],
            "_model_name": "HBoxModel",
            "_view_module": "@jupyter-widgets/controls",
            "_model_module_version": "1.5.0",
            "_view_count": null,
            "_view_module_version": "1.5.0",
            "box_style": "",
            "layout": "IPY_MODEL_ded8bdef4df44b7ebdb8178abb37eacf",
            "_model_module": "@jupyter-widgets/controls",
            "children": [
              "IPY_MODEL_6ae8018e77b046529e9fa994c185490b",
              "IPY_MODEL_f45379e3778042cda8f9c077d10fb451"
            ]
          }
        },
        "ded8bdef4df44b7ebdb8178abb37eacf": {
          "model_module": "@jupyter-widgets/base",
          "model_name": "LayoutModel",
          "state": {
            "_view_name": "LayoutView",
            "grid_template_rows": null,
            "right": null,
            "justify_content": null,
            "_view_module": "@jupyter-widgets/base",
            "overflow": null,
            "_model_module_version": "1.2.0",
            "_view_count": null,
            "flex_flow": null,
            "width": null,
            "min_width": null,
            "border": null,
            "align_items": null,
            "bottom": null,
            "_model_module": "@jupyter-widgets/base",
            "top": null,
            "grid_column": null,
            "overflow_y": null,
            "overflow_x": null,
            "grid_auto_flow": null,
            "grid_area": null,
            "grid_template_columns": null,
            "flex": null,
            "_model_name": "LayoutModel",
            "justify_items": null,
            "grid_row": null,
            "max_height": null,
            "align_content": null,
            "visibility": null,
            "align_self": null,
            "height": null,
            "min_height": null,
            "padding": null,
            "grid_auto_rows": null,
            "grid_gap": null,
            "max_width": null,
            "order": null,
            "_view_module_version": "1.2.0",
            "grid_template_areas": null,
            "object_position": null,
            "object_fit": null,
            "grid_auto_columns": null,
            "margin": null,
            "display": null,
            "left": null
          }
        },
        "6ae8018e77b046529e9fa994c185490b": {
          "model_module": "@jupyter-widgets/controls",
          "model_name": "FloatProgressModel",
          "state": {
            "_view_name": "ProgressView",
            "style": "IPY_MODEL_ffdd16045c174b06ab60d143919c5fa5",
            "_dom_classes": [],
            "description": "Downloading: 100%",
            "_model_name": "FloatProgressModel",
            "bar_style": "success",
            "max": 898822,
            "_view_module": "@jupyter-widgets/controls",
            "_model_module_version": "1.5.0",
            "value": 898822,
            "_view_count": null,
            "_view_module_version": "1.5.0",
            "orientation": "horizontal",
            "min": 0,
            "description_tooltip": null,
            "_model_module": "@jupyter-widgets/controls",
            "layout": "IPY_MODEL_68ad2c067c8846e883f26b9ccaf6ef6c"
          }
        },
        "f45379e3778042cda8f9c077d10fb451": {
          "model_module": "@jupyter-widgets/controls",
          "model_name": "HTMLModel",
          "state": {
            "_view_name": "HTMLView",
            "style": "IPY_MODEL_62a72c336b5542e9a547754b7925e81d",
            "_dom_classes": [],
            "description": "",
            "_model_name": "HTMLModel",
            "placeholder": "​",
            "_view_module": "@jupyter-widgets/controls",
            "_model_module_version": "1.5.0",
            "value": " 899k/899k [00:00&lt;00:00, 936kB/s]",
            "_view_count": null,
            "_view_module_version": "1.5.0",
            "description_tooltip": null,
            "_model_module": "@jupyter-widgets/controls",
            "layout": "IPY_MODEL_cbfc5213bd6542669a11a04946f9aa0b"
          }
        },
        "ffdd16045c174b06ab60d143919c5fa5": {
          "model_module": "@jupyter-widgets/controls",
          "model_name": "ProgressStyleModel",
          "state": {
            "_view_name": "StyleView",
            "_model_name": "ProgressStyleModel",
            "description_width": "initial",
            "_view_module": "@jupyter-widgets/base",
            "_model_module_version": "1.5.0",
            "_view_count": null,
            "_view_module_version": "1.2.0",
            "bar_color": null,
            "_model_module": "@jupyter-widgets/controls"
          }
        },
        "68ad2c067c8846e883f26b9ccaf6ef6c": {
          "model_module": "@jupyter-widgets/base",
          "model_name": "LayoutModel",
          "state": {
            "_view_name": "LayoutView",
            "grid_template_rows": null,
            "right": null,
            "justify_content": null,
            "_view_module": "@jupyter-widgets/base",
            "overflow": null,
            "_model_module_version": "1.2.0",
            "_view_count": null,
            "flex_flow": null,
            "width": null,
            "min_width": null,
            "border": null,
            "align_items": null,
            "bottom": null,
            "_model_module": "@jupyter-widgets/base",
            "top": null,
            "grid_column": null,
            "overflow_y": null,
            "overflow_x": null,
            "grid_auto_flow": null,
            "grid_area": null,
            "grid_template_columns": null,
            "flex": null,
            "_model_name": "LayoutModel",
            "justify_items": null,
            "grid_row": null,
            "max_height": null,
            "align_content": null,
            "visibility": null,
            "align_self": null,
            "height": null,
            "min_height": null,
            "padding": null,
            "grid_auto_rows": null,
            "grid_gap": null,
            "max_width": null,
            "order": null,
            "_view_module_version": "1.2.0",
            "grid_template_areas": null,
            "object_position": null,
            "object_fit": null,
            "grid_auto_columns": null,
            "margin": null,
            "display": null,
            "left": null
          }
        },
        "62a72c336b5542e9a547754b7925e81d": {
          "model_module": "@jupyter-widgets/controls",
          "model_name": "DescriptionStyleModel",
          "state": {
            "_view_name": "StyleView",
            "_model_name": "DescriptionStyleModel",
            "description_width": "",
            "_view_module": "@jupyter-widgets/base",
            "_model_module_version": "1.5.0",
            "_view_count": null,
            "_view_module_version": "1.2.0",
            "_model_module": "@jupyter-widgets/controls"
          }
        },
        "cbfc5213bd6542669a11a04946f9aa0b": {
          "model_module": "@jupyter-widgets/base",
          "model_name": "LayoutModel",
          "state": {
            "_view_name": "LayoutView",
            "grid_template_rows": null,
            "right": null,
            "justify_content": null,
            "_view_module": "@jupyter-widgets/base",
            "overflow": null,
            "_model_module_version": "1.2.0",
            "_view_count": null,
            "flex_flow": null,
            "width": null,
            "min_width": null,
            "border": null,
            "align_items": null,
            "bottom": null,
            "_model_module": "@jupyter-widgets/base",
            "top": null,
            "grid_column": null,
            "overflow_y": null,
            "overflow_x": null,
            "grid_auto_flow": null,
            "grid_area": null,
            "grid_template_columns": null,
            "flex": null,
            "_model_name": "LayoutModel",
            "justify_items": null,
            "grid_row": null,
            "max_height": null,
            "align_content": null,
            "visibility": null,
            "align_self": null,
            "height": null,
            "min_height": null,
            "padding": null,
            "grid_auto_rows": null,
            "grid_gap": null,
            "max_width": null,
            "order": null,
            "_view_module_version": "1.2.0",
            "grid_template_areas": null,
            "object_position": null,
            "object_fit": null,
            "grid_auto_columns": null,
            "margin": null,
            "display": null,
            "left": null
          }
        },
        "b1099d4924384a5db7f9f56ab967bef5": {
          "model_module": "@jupyter-widgets/controls",
          "model_name": "HBoxModel",
          "state": {
            "_view_name": "HBoxView",
            "_dom_classes": [],
            "_model_name": "HBoxModel",
            "_view_module": "@jupyter-widgets/controls",
            "_model_module_version": "1.5.0",
            "_view_count": null,
            "_view_module_version": "1.5.0",
            "box_style": "",
            "layout": "IPY_MODEL_85490e7fcc7c432d8d17b03cf7b8ab1c",
            "_model_module": "@jupyter-widgets/controls",
            "children": [
              "IPY_MODEL_698b5e2e00d3455f8eba92bd96dab19d",
              "IPY_MODEL_9b8b021a5af2496ea8221dc5454982e3"
            ]
          }
        },
        "85490e7fcc7c432d8d17b03cf7b8ab1c": {
          "model_module": "@jupyter-widgets/base",
          "model_name": "LayoutModel",
          "state": {
            "_view_name": "LayoutView",
            "grid_template_rows": null,
            "right": null,
            "justify_content": null,
            "_view_module": "@jupyter-widgets/base",
            "overflow": null,
            "_model_module_version": "1.2.0",
            "_view_count": null,
            "flex_flow": null,
            "width": null,
            "min_width": null,
            "border": null,
            "align_items": null,
            "bottom": null,
            "_model_module": "@jupyter-widgets/base",
            "top": null,
            "grid_column": null,
            "overflow_y": null,
            "overflow_x": null,
            "grid_auto_flow": null,
            "grid_area": null,
            "grid_template_columns": null,
            "flex": null,
            "_model_name": "LayoutModel",
            "justify_items": null,
            "grid_row": null,
            "max_height": null,
            "align_content": null,
            "visibility": null,
            "align_self": null,
            "height": null,
            "min_height": null,
            "padding": null,
            "grid_auto_rows": null,
            "grid_gap": null,
            "max_width": null,
            "order": null,
            "_view_module_version": "1.2.0",
            "grid_template_areas": null,
            "object_position": null,
            "object_fit": null,
            "grid_auto_columns": null,
            "margin": null,
            "display": null,
            "left": null
          }
        },
        "698b5e2e00d3455f8eba92bd96dab19d": {
          "model_module": "@jupyter-widgets/controls",
          "model_name": "FloatProgressModel",
          "state": {
            "_view_name": "ProgressView",
            "style": "IPY_MODEL_c125b90950704bc694661749bdece57b",
            "_dom_classes": [],
            "description": "Downloading: 100%",
            "_model_name": "FloatProgressModel",
            "bar_style": "success",
            "max": 456318,
            "_view_module": "@jupyter-widgets/controls",
            "_model_module_version": "1.5.0",
            "value": 456318,
            "_view_count": null,
            "_view_module_version": "1.5.0",
            "orientation": "horizontal",
            "min": 0,
            "description_tooltip": null,
            "_model_module": "@jupyter-widgets/controls",
            "layout": "IPY_MODEL_a7304ee68aa94cc8a2cf1abef6817ae4"
          }
        },
        "9b8b021a5af2496ea8221dc5454982e3": {
          "model_module": "@jupyter-widgets/controls",
          "model_name": "HTMLModel",
          "state": {
            "_view_name": "HTMLView",
            "style": "IPY_MODEL_30fbc69c8a644ea4a3d4dcce45169522",
            "_dom_classes": [],
            "description": "",
            "_model_name": "HTMLModel",
            "placeholder": "​",
            "_view_module": "@jupyter-widgets/controls",
            "_model_module_version": "1.5.0",
            "value": " 456k/456k [00:00&lt;00:00, 945kB/s]",
            "_view_count": null,
            "_view_module_version": "1.5.0",
            "description_tooltip": null,
            "_model_module": "@jupyter-widgets/controls",
            "layout": "IPY_MODEL_b34c400d621d4cfda3e09cdb927348a9"
          }
        },
        "c125b90950704bc694661749bdece57b": {
          "model_module": "@jupyter-widgets/controls",
          "model_name": "ProgressStyleModel",
          "state": {
            "_view_name": "StyleView",
            "_model_name": "ProgressStyleModel",
            "description_width": "initial",
            "_view_module": "@jupyter-widgets/base",
            "_model_module_version": "1.5.0",
            "_view_count": null,
            "_view_module_version": "1.2.0",
            "bar_color": null,
            "_model_module": "@jupyter-widgets/controls"
          }
        },
        "a7304ee68aa94cc8a2cf1abef6817ae4": {
          "model_module": "@jupyter-widgets/base",
          "model_name": "LayoutModel",
          "state": {
            "_view_name": "LayoutView",
            "grid_template_rows": null,
            "right": null,
            "justify_content": null,
            "_view_module": "@jupyter-widgets/base",
            "overflow": null,
            "_model_module_version": "1.2.0",
            "_view_count": null,
            "flex_flow": null,
            "width": null,
            "min_width": null,
            "border": null,
            "align_items": null,
            "bottom": null,
            "_model_module": "@jupyter-widgets/base",
            "top": null,
            "grid_column": null,
            "overflow_y": null,
            "overflow_x": null,
            "grid_auto_flow": null,
            "grid_area": null,
            "grid_template_columns": null,
            "flex": null,
            "_model_name": "LayoutModel",
            "justify_items": null,
            "grid_row": null,
            "max_height": null,
            "align_content": null,
            "visibility": null,
            "align_self": null,
            "height": null,
            "min_height": null,
            "padding": null,
            "grid_auto_rows": null,
            "grid_gap": null,
            "max_width": null,
            "order": null,
            "_view_module_version": "1.2.0",
            "grid_template_areas": null,
            "object_position": null,
            "object_fit": null,
            "grid_auto_columns": null,
            "margin": null,
            "display": null,
            "left": null
          }
        },
        "30fbc69c8a644ea4a3d4dcce45169522": {
          "model_module": "@jupyter-widgets/controls",
          "model_name": "DescriptionStyleModel",
          "state": {
            "_view_name": "StyleView",
            "_model_name": "DescriptionStyleModel",
            "description_width": "",
            "_view_module": "@jupyter-widgets/base",
            "_model_module_version": "1.5.0",
            "_view_count": null,
            "_view_module_version": "1.2.0",
            "_model_module": "@jupyter-widgets/controls"
          }
        },
        "b34c400d621d4cfda3e09cdb927348a9": {
          "model_module": "@jupyter-widgets/base",
          "model_name": "LayoutModel",
          "state": {
            "_view_name": "LayoutView",
            "grid_template_rows": null,
            "right": null,
            "justify_content": null,
            "_view_module": "@jupyter-widgets/base",
            "overflow": null,
            "_model_module_version": "1.2.0",
            "_view_count": null,
            "flex_flow": null,
            "width": null,
            "min_width": null,
            "border": null,
            "align_items": null,
            "bottom": null,
            "_model_module": "@jupyter-widgets/base",
            "top": null,
            "grid_column": null,
            "overflow_y": null,
            "overflow_x": null,
            "grid_auto_flow": null,
            "grid_area": null,
            "grid_template_columns": null,
            "flex": null,
            "_model_name": "LayoutModel",
            "justify_items": null,
            "grid_row": null,
            "max_height": null,
            "align_content": null,
            "visibility": null,
            "align_self": null,
            "height": null,
            "min_height": null,
            "padding": null,
            "grid_auto_rows": null,
            "grid_gap": null,
            "max_width": null,
            "order": null,
            "_view_module_version": "1.2.0",
            "grid_template_areas": null,
            "object_position": null,
            "object_fit": null,
            "grid_auto_columns": null,
            "margin": null,
            "display": null,
            "left": null
          }
        },
        "e559eaf2baa642e7976b823623f70304": {
          "model_module": "@jupyter-widgets/controls",
          "model_name": "HBoxModel",
          "state": {
            "_view_name": "HBoxView",
            "_dom_classes": [],
            "_model_name": "HBoxModel",
            "_view_module": "@jupyter-widgets/controls",
            "_model_module_version": "1.5.0",
            "_view_count": null,
            "_view_module_version": "1.5.0",
            "box_style": "",
            "layout": "IPY_MODEL_cf52362e8a264552a52384cc7998dc3d",
            "_model_module": "@jupyter-widgets/controls",
            "children": [
              "IPY_MODEL_f74b5305f0ae4977b1b7de3c2a230ec3",
              "IPY_MODEL_0d3ecc9e8bc543ce9f632e1943791421"
            ]
          }
        },
        "cf52362e8a264552a52384cc7998dc3d": {
          "model_module": "@jupyter-widgets/base",
          "model_name": "LayoutModel",
          "state": {
            "_view_name": "LayoutView",
            "grid_template_rows": null,
            "right": null,
            "justify_content": null,
            "_view_module": "@jupyter-widgets/base",
            "overflow": null,
            "_model_module_version": "1.2.0",
            "_view_count": null,
            "flex_flow": null,
            "width": null,
            "min_width": null,
            "border": null,
            "align_items": null,
            "bottom": null,
            "_model_module": "@jupyter-widgets/base",
            "top": null,
            "grid_column": null,
            "overflow_y": null,
            "overflow_x": null,
            "grid_auto_flow": null,
            "grid_area": null,
            "grid_template_columns": null,
            "flex": null,
            "_model_name": "LayoutModel",
            "justify_items": null,
            "grid_row": null,
            "max_height": null,
            "align_content": null,
            "visibility": null,
            "align_self": null,
            "height": null,
            "min_height": null,
            "padding": null,
            "grid_auto_rows": null,
            "grid_gap": null,
            "max_width": null,
            "order": null,
            "_view_module_version": "1.2.0",
            "grid_template_areas": null,
            "object_position": null,
            "object_fit": null,
            "grid_auto_columns": null,
            "margin": null,
            "display": null,
            "left": null
          }
        },
        "f74b5305f0ae4977b1b7de3c2a230ec3": {
          "model_module": "@jupyter-widgets/controls",
          "model_name": "FloatProgressModel",
          "state": {
            "_view_name": "ProgressView",
            "style": "IPY_MODEL_17bbcd56a3db47b289aac79e0749a2b5",
            "_dom_classes": [],
            "description": "Downloading: 100%",
            "_model_name": "FloatProgressModel",
            "bar_style": "success",
            "max": 26,
            "_view_module": "@jupyter-widgets/controls",
            "_model_module_version": "1.5.0",
            "value": 26,
            "_view_count": null,
            "_view_module_version": "1.5.0",
            "orientation": "horizontal",
            "min": 0,
            "description_tooltip": null,
            "_model_module": "@jupyter-widgets/controls",
            "layout": "IPY_MODEL_c526d7dfe6d24bfcbe3242bd05b675fa"
          }
        },
        "0d3ecc9e8bc543ce9f632e1943791421": {
          "model_module": "@jupyter-widgets/controls",
          "model_name": "HTMLModel",
          "state": {
            "_view_name": "HTMLView",
            "style": "IPY_MODEL_6dfcdc544b3b46f5a56773f61de621c0",
            "_dom_classes": [],
            "description": "",
            "_model_name": "HTMLModel",
            "placeholder": "​",
            "_view_module": "@jupyter-widgets/controls",
            "_model_module_version": "1.5.0",
            "value": " 26.0/26.0 [00:00&lt;00:00, 116B/s]",
            "_view_count": null,
            "_view_module_version": "1.5.0",
            "description_tooltip": null,
            "_model_module": "@jupyter-widgets/controls",
            "layout": "IPY_MODEL_868586cc14424513b99c400ea6f9e17b"
          }
        },
        "17bbcd56a3db47b289aac79e0749a2b5": {
          "model_module": "@jupyter-widgets/controls",
          "model_name": "ProgressStyleModel",
          "state": {
            "_view_name": "StyleView",
            "_model_name": "ProgressStyleModel",
            "description_width": "initial",
            "_view_module": "@jupyter-widgets/base",
            "_model_module_version": "1.5.0",
            "_view_count": null,
            "_view_module_version": "1.2.0",
            "bar_color": null,
            "_model_module": "@jupyter-widgets/controls"
          }
        },
        "c526d7dfe6d24bfcbe3242bd05b675fa": {
          "model_module": "@jupyter-widgets/base",
          "model_name": "LayoutModel",
          "state": {
            "_view_name": "LayoutView",
            "grid_template_rows": null,
            "right": null,
            "justify_content": null,
            "_view_module": "@jupyter-widgets/base",
            "overflow": null,
            "_model_module_version": "1.2.0",
            "_view_count": null,
            "flex_flow": null,
            "width": null,
            "min_width": null,
            "border": null,
            "align_items": null,
            "bottom": null,
            "_model_module": "@jupyter-widgets/base",
            "top": null,
            "grid_column": null,
            "overflow_y": null,
            "overflow_x": null,
            "grid_auto_flow": null,
            "grid_area": null,
            "grid_template_columns": null,
            "flex": null,
            "_model_name": "LayoutModel",
            "justify_items": null,
            "grid_row": null,
            "max_height": null,
            "align_content": null,
            "visibility": null,
            "align_self": null,
            "height": null,
            "min_height": null,
            "padding": null,
            "grid_auto_rows": null,
            "grid_gap": null,
            "max_width": null,
            "order": null,
            "_view_module_version": "1.2.0",
            "grid_template_areas": null,
            "object_position": null,
            "object_fit": null,
            "grid_auto_columns": null,
            "margin": null,
            "display": null,
            "left": null
          }
        },
        "6dfcdc544b3b46f5a56773f61de621c0": {
          "model_module": "@jupyter-widgets/controls",
          "model_name": "DescriptionStyleModel",
          "state": {
            "_view_name": "StyleView",
            "_model_name": "DescriptionStyleModel",
            "description_width": "",
            "_view_module": "@jupyter-widgets/base",
            "_model_module_version": "1.5.0",
            "_view_count": null,
            "_view_module_version": "1.2.0",
            "_model_module": "@jupyter-widgets/controls"
          }
        },
        "868586cc14424513b99c400ea6f9e17b": {
          "model_module": "@jupyter-widgets/base",
          "model_name": "LayoutModel",
          "state": {
            "_view_name": "LayoutView",
            "grid_template_rows": null,
            "right": null,
            "justify_content": null,
            "_view_module": "@jupyter-widgets/base",
            "overflow": null,
            "_model_module_version": "1.2.0",
            "_view_count": null,
            "flex_flow": null,
            "width": null,
            "min_width": null,
            "border": null,
            "align_items": null,
            "bottom": null,
            "_model_module": "@jupyter-widgets/base",
            "top": null,
            "grid_column": null,
            "overflow_y": null,
            "overflow_x": null,
            "grid_auto_flow": null,
            "grid_area": null,
            "grid_template_columns": null,
            "flex": null,
            "_model_name": "LayoutModel",
            "justify_items": null,
            "grid_row": null,
            "max_height": null,
            "align_content": null,
            "visibility": null,
            "align_self": null,
            "height": null,
            "min_height": null,
            "padding": null,
            "grid_auto_rows": null,
            "grid_gap": null,
            "max_width": null,
            "order": null,
            "_view_module_version": "1.2.0",
            "grid_template_areas": null,
            "object_position": null,
            "object_fit": null,
            "grid_auto_columns": null,
            "margin": null,
            "display": null,
            "left": null
          }
        },
        "d3b4e411b0064b028c3fb8879482d521": {
          "model_module": "@jupyter-widgets/controls",
          "model_name": "HBoxModel",
          "state": {
            "_view_name": "HBoxView",
            "_dom_classes": [],
            "_model_name": "HBoxModel",
            "_view_module": "@jupyter-widgets/controls",
            "_model_module_version": "1.5.0",
            "_view_count": null,
            "_view_module_version": "1.5.0",
            "box_style": "",
            "layout": "IPY_MODEL_10f4a06047554732b7ea3d846755a64c",
            "_model_module": "@jupyter-widgets/controls",
            "children": [
              "IPY_MODEL_f542a3a4d86d4fb2b2439ed9271d10f7",
              "IPY_MODEL_31514904b88c4d9291b9f4b71333d1ea"
            ]
          }
        },
        "10f4a06047554732b7ea3d846755a64c": {
          "model_module": "@jupyter-widgets/base",
          "model_name": "LayoutModel",
          "state": {
            "_view_name": "LayoutView",
            "grid_template_rows": null,
            "right": null,
            "justify_content": null,
            "_view_module": "@jupyter-widgets/base",
            "overflow": null,
            "_model_module_version": "1.2.0",
            "_view_count": null,
            "flex_flow": null,
            "width": null,
            "min_width": null,
            "border": null,
            "align_items": null,
            "bottom": null,
            "_model_module": "@jupyter-widgets/base",
            "top": null,
            "grid_column": null,
            "overflow_y": null,
            "overflow_x": null,
            "grid_auto_flow": null,
            "grid_area": null,
            "grid_template_columns": null,
            "flex": null,
            "_model_name": "LayoutModel",
            "justify_items": null,
            "grid_row": null,
            "max_height": null,
            "align_content": null,
            "visibility": null,
            "align_self": null,
            "height": null,
            "min_height": null,
            "padding": null,
            "grid_auto_rows": null,
            "grid_gap": null,
            "max_width": null,
            "order": null,
            "_view_module_version": "1.2.0",
            "grid_template_areas": null,
            "object_position": null,
            "object_fit": null,
            "grid_auto_columns": null,
            "margin": null,
            "display": null,
            "left": null
          }
        },
        "f542a3a4d86d4fb2b2439ed9271d10f7": {
          "model_module": "@jupyter-widgets/controls",
          "model_name": "FloatProgressModel",
          "state": {
            "_view_name": "ProgressView",
            "style": "IPY_MODEL_fe2b4d3c4a3749a28fb6d769339c2686",
            "_dom_classes": [],
            "description": "Downloading: 100%",
            "_model_name": "FloatProgressModel",
            "bar_style": "success",
            "max": 1222317369,
            "_view_module": "@jupyter-widgets/controls",
            "_model_module_version": "1.5.0",
            "value": 1222317369,
            "_view_count": null,
            "_view_module_version": "1.5.0",
            "orientation": "horizontal",
            "min": 0,
            "description_tooltip": null,
            "_model_module": "@jupyter-widgets/controls",
            "layout": "IPY_MODEL_1f675d84f92b430ab060922af1c7dbc3"
          }
        },
        "31514904b88c4d9291b9f4b71333d1ea": {
          "model_module": "@jupyter-widgets/controls",
          "model_name": "HTMLModel",
          "state": {
            "_view_name": "HTMLView",
            "style": "IPY_MODEL_53dd719487d5464d8226f27cfc92b148",
            "_dom_classes": [],
            "description": "",
            "_model_name": "HTMLModel",
            "placeholder": "​",
            "_view_module": "@jupyter-widgets/controls",
            "_model_module_version": "1.5.0",
            "value": " 1.22G/1.22G [00:55&lt;00:00, 21.9MB/s]",
            "_view_count": null,
            "_view_module_version": "1.5.0",
            "description_tooltip": null,
            "_model_module": "@jupyter-widgets/controls",
            "layout": "IPY_MODEL_a23207ebce4a4f93a46d713b93c5b9b0"
          }
        },
        "fe2b4d3c4a3749a28fb6d769339c2686": {
          "model_module": "@jupyter-widgets/controls",
          "model_name": "ProgressStyleModel",
          "state": {
            "_view_name": "StyleView",
            "_model_name": "ProgressStyleModel",
            "description_width": "initial",
            "_view_module": "@jupyter-widgets/base",
            "_model_module_version": "1.5.0",
            "_view_count": null,
            "_view_module_version": "1.2.0",
            "bar_color": null,
            "_model_module": "@jupyter-widgets/controls"
          }
        },
        "1f675d84f92b430ab060922af1c7dbc3": {
          "model_module": "@jupyter-widgets/base",
          "model_name": "LayoutModel",
          "state": {
            "_view_name": "LayoutView",
            "grid_template_rows": null,
            "right": null,
            "justify_content": null,
            "_view_module": "@jupyter-widgets/base",
            "overflow": null,
            "_model_module_version": "1.2.0",
            "_view_count": null,
            "flex_flow": null,
            "width": null,
            "min_width": null,
            "border": null,
            "align_items": null,
            "bottom": null,
            "_model_module": "@jupyter-widgets/base",
            "top": null,
            "grid_column": null,
            "overflow_y": null,
            "overflow_x": null,
            "grid_auto_flow": null,
            "grid_area": null,
            "grid_template_columns": null,
            "flex": null,
            "_model_name": "LayoutModel",
            "justify_items": null,
            "grid_row": null,
            "max_height": null,
            "align_content": null,
            "visibility": null,
            "align_self": null,
            "height": null,
            "min_height": null,
            "padding": null,
            "grid_auto_rows": null,
            "grid_gap": null,
            "max_width": null,
            "order": null,
            "_view_module_version": "1.2.0",
            "grid_template_areas": null,
            "object_position": null,
            "object_fit": null,
            "grid_auto_columns": null,
            "margin": null,
            "display": null,
            "left": null
          }
        },
        "53dd719487d5464d8226f27cfc92b148": {
          "model_module": "@jupyter-widgets/controls",
          "model_name": "DescriptionStyleModel",
          "state": {
            "_view_name": "StyleView",
            "_model_name": "DescriptionStyleModel",
            "description_width": "",
            "_view_module": "@jupyter-widgets/base",
            "_model_module_version": "1.5.0",
            "_view_count": null,
            "_view_module_version": "1.2.0",
            "_model_module": "@jupyter-widgets/controls"
          }
        },
        "a23207ebce4a4f93a46d713b93c5b9b0": {
          "model_module": "@jupyter-widgets/base",
          "model_name": "LayoutModel",
          "state": {
            "_view_name": "LayoutView",
            "grid_template_rows": null,
            "right": null,
            "justify_content": null,
            "_view_module": "@jupyter-widgets/base",
            "overflow": null,
            "_model_module_version": "1.2.0",
            "_view_count": null,
            "flex_flow": null,
            "width": null,
            "min_width": null,
            "border": null,
            "align_items": null,
            "bottom": null,
            "_model_module": "@jupyter-widgets/base",
            "top": null,
            "grid_column": null,
            "overflow_y": null,
            "overflow_x": null,
            "grid_auto_flow": null,
            "grid_area": null,
            "grid_template_columns": null,
            "flex": null,
            "_model_name": "LayoutModel",
            "justify_items": null,
            "grid_row": null,
            "max_height": null,
            "align_content": null,
            "visibility": null,
            "align_self": null,
            "height": null,
            "min_height": null,
            "padding": null,
            "grid_auto_rows": null,
            "grid_gap": null,
            "max_width": null,
            "order": null,
            "_view_module_version": "1.2.0",
            "grid_template_areas": null,
            "object_position": null,
            "object_fit": null,
            "grid_auto_columns": null,
            "margin": null,
            "display": null,
            "left": null
          }
        }
      }
    }
  },
  "cells": [
    {
      "cell_type": "markdown",
      "metadata": {
        "id": "view-in-github",
        "colab_type": "text"
      },
      "source": [
        "<a href=\"https://colab.research.google.com/github/altafahmad623/G-A-Project/blob/master/Summary_Generation_Using_Transformer.ipynb\" target=\"_parent\"><img src=\"https://colab.research.google.com/assets/colab-badge.svg\" alt=\"Open In Colab\"/></a>"
      ]
    },
    {
      "cell_type": "code",
      "metadata": {
        "id": "YBX15NcWbNCZ",
        "colab_type": "code",
        "colab": {
          "base_uri": "https://localhost:8080/",
          "height": 607
        },
        "outputId": "3a85fc1a-6be0-4543-c29c-7dadb2c67d38"
      },
      "source": [
        "!pip install transformers"
      ],
      "execution_count": 1,
      "outputs": [
        {
          "output_type": "stream",
          "text": [
            "Collecting transformers\n",
            "\u001b[?25l  Downloading https://files.pythonhosted.org/packages/d8/f4/9f93f06dd2c57c7cd7aa515ffbf9fcfd8a084b92285732289f4a5696dd91/transformers-3.2.0-py3-none-any.whl (1.0MB)\n",
            "\u001b[K     |████████████████████████████████| 1.0MB 2.8MB/s \n",
            "\u001b[?25hRequirement already satisfied: numpy in /usr/local/lib/python3.6/dist-packages (from transformers) (1.18.5)\n",
            "Requirement already satisfied: tqdm>=4.27 in /usr/local/lib/python3.6/dist-packages (from transformers) (4.41.1)\n",
            "Collecting tokenizers==0.8.1.rc2\n",
            "\u001b[?25l  Downloading https://files.pythonhosted.org/packages/80/83/8b9fccb9e48eeb575ee19179e2bdde0ee9a1904f97de5f02d19016b8804f/tokenizers-0.8.1rc2-cp36-cp36m-manylinux1_x86_64.whl (3.0MB)\n",
            "\u001b[K     |████████████████████████████████| 3.0MB 14.3MB/s \n",
            "\u001b[?25hRequirement already satisfied: regex!=2019.12.17 in /usr/local/lib/python3.6/dist-packages (from transformers) (2019.12.20)\n",
            "Collecting sentencepiece!=0.1.92\n",
            "\u001b[?25l  Downloading https://files.pythonhosted.org/packages/d4/a4/d0a884c4300004a78cca907a6ff9a5e9fe4f090f5d95ab341c53d28cbc58/sentencepiece-0.1.91-cp36-cp36m-manylinux1_x86_64.whl (1.1MB)\n",
            "\u001b[K     |████████████████████████████████| 1.1MB 35.4MB/s \n",
            "\u001b[?25hRequirement already satisfied: requests in /usr/local/lib/python3.6/dist-packages (from transformers) (2.23.0)\n",
            "Requirement already satisfied: dataclasses; python_version < \"3.7\" in /usr/local/lib/python3.6/dist-packages (from transformers) (0.7)\n",
            "Requirement already satisfied: packaging in /usr/local/lib/python3.6/dist-packages (from transformers) (20.4)\n",
            "Collecting sacremoses\n",
            "\u001b[?25l  Downloading https://files.pythonhosted.org/packages/7d/34/09d19aff26edcc8eb2a01bed8e98f13a1537005d31e95233fd48216eed10/sacremoses-0.0.43.tar.gz (883kB)\n",
            "\u001b[K     |████████████████████████████████| 890kB 40.0MB/s \n",
            "\u001b[?25hRequirement already satisfied: filelock in /usr/local/lib/python3.6/dist-packages (from transformers) (3.0.12)\n",
            "Requirement already satisfied: idna<3,>=2.5 in /usr/local/lib/python3.6/dist-packages (from requests->transformers) (2.10)\n",
            "Requirement already satisfied: chardet<4,>=3.0.2 in /usr/local/lib/python3.6/dist-packages (from requests->transformers) (3.0.4)\n",
            "Requirement already satisfied: certifi>=2017.4.17 in /usr/local/lib/python3.6/dist-packages (from requests->transformers) (2020.6.20)\n",
            "Requirement already satisfied: urllib3!=1.25.0,!=1.25.1,<1.26,>=1.21.1 in /usr/local/lib/python3.6/dist-packages (from requests->transformers) (1.24.3)\n",
            "Requirement already satisfied: six in /usr/local/lib/python3.6/dist-packages (from packaging->transformers) (1.15.0)\n",
            "Requirement already satisfied: pyparsing>=2.0.2 in /usr/local/lib/python3.6/dist-packages (from packaging->transformers) (2.4.7)\n",
            "Requirement already satisfied: click in /usr/local/lib/python3.6/dist-packages (from sacremoses->transformers) (7.1.2)\n",
            "Requirement already satisfied: joblib in /usr/local/lib/python3.6/dist-packages (from sacremoses->transformers) (0.16.0)\n",
            "Building wheels for collected packages: sacremoses\n",
            "  Building wheel for sacremoses (setup.py) ... \u001b[?25l\u001b[?25hdone\n",
            "  Created wheel for sacremoses: filename=sacremoses-0.0.43-cp36-none-any.whl size=893257 sha256=286ec40f9f1fb5477fcc5b0a276013c36eb035eb3356403d2d9cb4f023b65f44\n",
            "  Stored in directory: /root/.cache/pip/wheels/29/3c/fd/7ce5c3f0666dab31a50123635e6fb5e19ceb42ce38d4e58f45\n",
            "Successfully built sacremoses\n",
            "Installing collected packages: tokenizers, sentencepiece, sacremoses, transformers\n",
            "Successfully installed sacremoses-0.0.43 sentencepiece-0.1.91 tokenizers-0.8.1rc2 transformers-3.2.0\n"
          ],
          "name": "stdout"
        }
      ]
    },
    {
      "cell_type": "code",
      "metadata": {
        "id": "OL76uwGabQ_L",
        "colab_type": "code",
        "colab": {}
      },
      "source": [
        "from transformers import pipeline"
      ],
      "execution_count": 2,
      "outputs": []
    },
    {
      "cell_type": "code",
      "metadata": {
        "id": "9Vfd7a-ccWDV",
        "colab_type": "code",
        "colab": {
          "base_uri": "https://localhost:8080/",
          "height": 264,
          "referenced_widgets": [
            "7316e5fd3cf5451884bf62f46b8ab674",
            "99388548958140ea889e7d5f692c894a",
            "76584a8d2e764733a58e7e1e39caaa1a",
            "315cbbe87b5d4c28bdcd9a088fe06129",
            "941d175b64b74400a13f7985eda521a6",
            "f2cd136b92fc41f7875ea2f5a284792d",
            "663f537aecd1422bb83d743810d4dde1",
            "4adbfa0132914259a1cf457f37a43c55",
            "ea5aadaaf35b4ea7b01f86b0f1ff9c37",
            "ded8bdef4df44b7ebdb8178abb37eacf",
            "6ae8018e77b046529e9fa994c185490b",
            "f45379e3778042cda8f9c077d10fb451",
            "ffdd16045c174b06ab60d143919c5fa5",
            "68ad2c067c8846e883f26b9ccaf6ef6c",
            "62a72c336b5542e9a547754b7925e81d",
            "cbfc5213bd6542669a11a04946f9aa0b",
            "b1099d4924384a5db7f9f56ab967bef5",
            "85490e7fcc7c432d8d17b03cf7b8ab1c",
            "698b5e2e00d3455f8eba92bd96dab19d",
            "9b8b021a5af2496ea8221dc5454982e3",
            "c125b90950704bc694661749bdece57b",
            "a7304ee68aa94cc8a2cf1abef6817ae4",
            "30fbc69c8a644ea4a3d4dcce45169522",
            "b34c400d621d4cfda3e09cdb927348a9",
            "e559eaf2baa642e7976b823623f70304",
            "cf52362e8a264552a52384cc7998dc3d",
            "f74b5305f0ae4977b1b7de3c2a230ec3",
            "0d3ecc9e8bc543ce9f632e1943791421",
            "17bbcd56a3db47b289aac79e0749a2b5",
            "c526d7dfe6d24bfcbe3242bd05b675fa",
            "6dfcdc544b3b46f5a56773f61de621c0",
            "868586cc14424513b99c400ea6f9e17b",
            "d3b4e411b0064b028c3fb8879482d521",
            "10f4a06047554732b7ea3d846755a64c",
            "f542a3a4d86d4fb2b2439ed9271d10f7",
            "31514904b88c4d9291b9f4b71333d1ea",
            "fe2b4d3c4a3749a28fb6d769339c2686",
            "1f675d84f92b430ab060922af1c7dbc3",
            "53dd719487d5464d8226f27cfc92b148",
            "a23207ebce4a4f93a46d713b93c5b9b0"
          ]
        },
        "outputId": "a9f4a479-1dd0-4189-b303-3374265d4153"
      },
      "source": [
        "summarizer = pipeline(\"summarization\")"
      ],
      "execution_count": 3,
      "outputs": [
        {
          "output_type": "display_data",
          "data": {
            "application/vnd.jupyter.widget-view+json": {
              "model_id": "7316e5fd3cf5451884bf62f46b8ab674",
              "version_minor": 0,
              "version_major": 2
            },
            "text/plain": [
              "HBox(children=(FloatProgress(value=0.0, description='Downloading', max=1621.0, style=ProgressStyle(description…"
            ]
          },
          "metadata": {
            "tags": []
          }
        },
        {
          "output_type": "stream",
          "text": [
            "\n"
          ],
          "name": "stdout"
        },
        {
          "output_type": "display_data",
          "data": {
            "application/vnd.jupyter.widget-view+json": {
              "model_id": "ea5aadaaf35b4ea7b01f86b0f1ff9c37",
              "version_minor": 0,
              "version_major": 2
            },
            "text/plain": [
              "HBox(children=(FloatProgress(value=0.0, description='Downloading', max=898822.0, style=ProgressStyle(descripti…"
            ]
          },
          "metadata": {
            "tags": []
          }
        },
        {
          "output_type": "stream",
          "text": [
            "\n"
          ],
          "name": "stdout"
        },
        {
          "output_type": "display_data",
          "data": {
            "application/vnd.jupyter.widget-view+json": {
              "model_id": "b1099d4924384a5db7f9f56ab967bef5",
              "version_minor": 0,
              "version_major": 2
            },
            "text/plain": [
              "HBox(children=(FloatProgress(value=0.0, description='Downloading', max=456318.0, style=ProgressStyle(descripti…"
            ]
          },
          "metadata": {
            "tags": []
          }
        },
        {
          "output_type": "stream",
          "text": [
            "\n"
          ],
          "name": "stdout"
        },
        {
          "output_type": "display_data",
          "data": {
            "application/vnd.jupyter.widget-view+json": {
              "model_id": "e559eaf2baa642e7976b823623f70304",
              "version_minor": 0,
              "version_major": 2
            },
            "text/plain": [
              "HBox(children=(FloatProgress(value=0.0, description='Downloading', max=26.0, style=ProgressStyle(description_w…"
            ]
          },
          "metadata": {
            "tags": []
          }
        },
        {
          "output_type": "stream",
          "text": [
            "\n"
          ],
          "name": "stdout"
        },
        {
          "output_type": "display_data",
          "data": {
            "application/vnd.jupyter.widget-view+json": {
              "model_id": "d3b4e411b0064b028c3fb8879482d521",
              "version_minor": 0,
              "version_major": 2
            },
            "text/plain": [
              "HBox(children=(FloatProgress(value=0.0, description='Downloading', max=1222317369.0, style=ProgressStyle(descr…"
            ]
          },
          "metadata": {
            "tags": []
          }
        },
        {
          "output_type": "stream",
          "text": [
            "\n"
          ],
          "name": "stdout"
        }
      ]
    },
    {
      "cell_type": "code",
      "metadata": {
        "id": "z62674Iwccxa",
        "colab_type": "code",
        "colab": {}
      },
      "source": [
        "Article1 = \"\"\"478. LETTER TO JETHALAL G. SAMPATMarch 28, 1935CHI. JETHALAL ,I have received your detailed letter. I will pass it on toVinoba.You should train the women who are staying there. Thereis only one department of our work which needs to be under-stood. It will be difficult to evaluate our strength if we do notstart the publicity work at home.Vinoba has gone deep. My assessment of his work from theshortcomings he could discern, can never be proved wrong. Weare all like castor-oil plants becoming important in the absence ofother trees. In comparison, in my opinion, your work is out-standing. Take it that it is the end of your work if you are satis-fied with it. However I am sure that such a thing will neverhappen.Vinoba's aim in staying here is that he can explain to usour shortcoming.Both the departments those of self-sustained khadi andcommercial khadi, are important for you. Commercial khadi,without self-sustained khadi will remain ineffective. The latterwill not satisfy the poor. How much of it can they wear? Theycan certainly produce more than that. If the poor do not wearit, then there is a fear that they will even cease to producecommercial khadi.It is possible that even if one has faith in prayer, one cannotsing well. In such cases it is all right if there are no bhajans andslokas. Ramdhun will certainly serve the purpose. The slokas shouldbe correctly articulated if they are recited. Otherwise their trans-lation should be read out. However, it should be dropped if it isfound to be dull. For singing bhajans it is necessary to havea good voice. If that is not available, bhajans should also bedropped. Everyone would know how to sing Ramadhun. Butthat also requires a little practice.Purbai will bring credit to herself if left alone. She will bea misfit in a group. It is unlikely that Gangabehn will leave Bocha-san. We do not have so many trained women, so for the time352SELF-SUSTAINED KHADI353being there is no other course for you but to manage your workalone.It is likely that the urinal which you have devised undergroundwill cause great damage one day, while it will serve both thepurposes if instead you make it on heaps of mud which can bethrown into the fields daily. Urine is a valuable manure andthe less we use it the greater is the harm done.Blessings fromBAPUFrom Gujarati: C.W. 9851. Courtesy: Narayan J. Sampat\"\"\""
      ],
      "execution_count": 4,
      "outputs": []
    },
    {
      "cell_type": "code",
      "metadata": {
        "id": "VM9c0acxc2Au",
        "colab_type": "code",
        "colab": {
          "base_uri": "https://localhost:8080/",
          "height": 34
        },
        "outputId": "e88a6e0c-ffa5-413a-c0b8-7b68343b1b2e"
      },
      "source": [
        "print(summarizer(Article1, max_length=130, min_length=30, do_sample=False))"
      ],
      "execution_count": 5,
      "outputs": [
        {
          "output_type": "stream",
          "text": [
            "[{'summary_text': \" Jethalal should train the women who are staying there . It will be difficult to evaluate our strength if we don't start publicity work at home .\"}]\n"
          ],
          "name": "stdout"
        }
      ]
    },
    {
      "cell_type": "code",
      "metadata": {
        "id": "80BjU0Iic5RR",
        "colab_type": "code",
        "colab": {
          "base_uri": "https://localhost:8080/",
          "height": 72
        },
        "outputId": "62dc1425-7c6e-4ae0-8198-02732257770d"
      },
      "source": [
        "import pandas as pd\n",
        "import numpy  as np\n",
        "import matplotlib.pyplot as plt\n",
        "import psycopg2 as ps"
      ],
      "execution_count": 6,
      "outputs": [
        {
          "output_type": "stream",
          "text": [
            "/usr/local/lib/python3.6/dist-packages/psycopg2/__init__.py:144: UserWarning: The psycopg2 wheel package will be renamed from release 2.8; in order to keep installing from binary please use \"pip install psycopg2-binary\" instead. For details see: <http://initd.org/psycopg/docs/install.html#binary-install-from-pypi>.\n",
            "  \"\"\")\n"
          ],
          "name": "stderr"
        }
      ]
    },
    {
      "cell_type": "code",
      "metadata": {
        "id": "izXy3V_p5kjp",
        "colab_type": "code",
        "colab": {
          "resources": {
            "http://localhost:8080/nbextensions/google.colab/files.js": {
              "data": "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",
              "ok": true,
              "headers": [
                [
                  "content-type",
                  "application/javascript"
                ]
              ],
              "status": 200,
              "status_text": "OK"
            }
          },
          "base_uri": "https://localhost:8080/",
          "height": 81
        },
        "outputId": "5dcff565-a8be-497a-c409-6b38bd364b83"
      },
      "source": [
        "from google.colab import files\n",
        "uploaded = files.upload()"
      ],
      "execution_count": 7,
      "outputs": [
        {
          "output_type": "display_data",
          "data": {
            "text/html": [
              "\n",
              "     <input type=\"file\" id=\"files-6126f085-2267-4b5f-8fa9-6edfe9231d25\" name=\"files[]\" multiple disabled\n",
              "        style=\"border:none\" />\n",
              "     <output id=\"result-6126f085-2267-4b5f-8fa9-6edfe9231d25\">\n",
              "      Upload widget is only available when the cell has been executed in the\n",
              "      current browser session. Please rerun this cell to enable.\n",
              "      </output>\n",
              "      <script src=\"/nbextensions/google.colab/files.js\"></script> "
            ],
            "text/plain": [
              "<IPython.core.display.HTML object>"
            ]
          },
          "metadata": {
            "tags": []
          }
        },
        {
          "output_type": "stream",
          "text": [
            "Saving onethou.xlsx to onethou.xlsx\n"
          ],
          "name": "stdout"
        }
      ]
    },
    {
      "cell_type": "code",
      "metadata": {
        "id": "LXl4UhyIi0G0",
        "colab_type": "code",
        "colab": {
          "resources": {
            "http://localhost:8080/nbextensions/google.colab/files.js": {
              "data": "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",
              "ok": true,
              "headers": [
                [
                  "content-type",
                  "application/javascript"
                ]
              ],
              "status": 200,
              "status_text": "OK"
            }
          },
          "base_uri": "https://localhost:8080/",
          "height": 81
        },
        "outputId": "19e220e4-ba19-48d1-b6e4-cf6ebc06dfd7"
      },
      "source": [
        "uploaded = files.upload()"
      ],
      "execution_count": 8,
      "outputs": [
        {
          "output_type": "display_data",
          "data": {
            "text/html": [
              "\n",
              "     <input type=\"file\" id=\"files-d28c83b0-daeb-45d9-8443-6edb7dc3fcd3\" name=\"files[]\" multiple disabled\n",
              "        style=\"border:none\" />\n",
              "     <output id=\"result-d28c83b0-daeb-45d9-8443-6edb7dc3fcd3\">\n",
              "      Upload widget is only available when the cell has been executed in the\n",
              "      current browser session. Please rerun this cell to enable.\n",
              "      </output>\n",
              "      <script src=\"/nbextensions/google.colab/files.js\"></script> "
            ],
            "text/plain": [
              "<IPython.core.display.HTML object>"
            ]
          },
          "metadata": {
            "tags": []
          }
        },
        {
          "output_type": "stream",
          "text": [
            "Saving Timeline.xlsx to Timeline.xlsx\n"
          ],
          "name": "stdout"
        }
      ]
    },
    {
      "cell_type": "code",
      "metadata": {
        "id": "hUVQ-pAfjHmI",
        "colab_type": "code",
        "colab": {}
      },
      "source": [
        "import io"
      ],
      "execution_count": 9,
      "outputs": []
    },
    {
      "cell_type": "code",
      "metadata": {
        "id": "82u1EEtm6PlO",
        "colab_type": "code",
        "colab": {}
      },
      "source": [
        "df1 = pd.read_excel(io.BytesIO(uploaded['Timeline.xlsx']))"
      ],
      "execution_count": 11,
      "outputs": []
    },
    {
      "cell_type": "code",
      "metadata": {
        "id": "hm-vsLoY6gVy",
        "colab_type": "code",
        "colab": {
          "base_uri": "https://localhost:8080/",
          "height": 424
        },
        "outputId": "2eb271f8-85eb-4a88-805a-65a2dc820cfd"
      },
      "source": [
        "df1"
      ],
      "execution_count": 12,
      "outputs": [
        {
          "output_type": "execute_result",
          "data": {
            "text/html": [
              "<div>\n",
              "<style scoped>\n",
              "    .dataframe tbody tr th:only-of-type {\n",
              "        vertical-align: middle;\n",
              "    }\n",
              "\n",
              "    .dataframe tbody tr th {\n",
              "        vertical-align: top;\n",
              "    }\n",
              "\n",
              "    .dataframe thead th {\n",
              "        text-align: right;\n",
              "    }\n",
              "</style>\n",
              "<table border=\"1\" class=\"dataframe\">\n",
              "  <thead>\n",
              "    <tr style=\"text-align: right;\">\n",
              "      <th></th>\n",
              "      <th>Name</th>\n",
              "      <th>Month</th>\n",
              "      <th>Date</th>\n",
              "      <th>Year</th>\n",
              "      <th>Name of Reciever</th>\n",
              "      <th>Length</th>\n",
              "      <th>Letter</th>\n",
              "    </tr>\n",
              "  </thead>\n",
              "  <tbody>\n",
              "    <tr>\n",
              "      <th>0</th>\n",
              "      <td>volume60_book_316.txt</td>\n",
              "      <td>February</td>\n",
              "      <td>18</td>\n",
              "      <td>1935</td>\n",
              "      <td>AMRIT KAUR</td>\n",
              "      <td>2404</td>\n",
              "      <td>316. LETTER TO AMRIT KAUR\\nUnrevised\\nWARDHA,\\...</td>\n",
              "    </tr>\n",
              "    <tr>\n",
              "      <th>1</th>\n",
              "      <td>volume60_book_478.txt</td>\n",
              "      <td>March</td>\n",
              "      <td>28</td>\n",
              "      <td>1935</td>\n",
              "      <td>JETHALAL G. SAMPAT</td>\n",
              "      <td>2405</td>\n",
              "      <td>478. LETTER TO JETHALAL G. SAMPAT\\nMarch 28, 1...</td>\n",
              "    </tr>\n",
              "    <tr>\n",
              "      <th>2</th>\n",
              "      <td>volume61_book_588.txt</td>\n",
              "      <td>September</td>\n",
              "      <td>12</td>\n",
              "      <td>1935</td>\n",
              "      <td>BRIJKRISHNA CHANDIWALA</td>\n",
              "      <td>2409</td>\n",
              "      <td>588. LETTER TO BRIJKRISHNA CHANDIWALA\\nWARDHA,...</td>\n",
              "    </tr>\n",
              "    <tr>\n",
              "      <th>3</th>\n",
              "      <td>volume93_book_57.txt</td>\n",
              "      <td>August</td>\n",
              "      <td>22</td>\n",
              "      <td>1935</td>\n",
              "      <td>PURUSHOTTAM K. JERAJANI</td>\n",
              "      <td>2468</td>\n",
              "      <td>57. LETTER TO PURUSHOTTAM K. JERAJANI\\nWARDHA,...</td>\n",
              "    </tr>\n",
              "    <tr>\n",
              "      <th>4</th>\n",
              "      <td>volume60_book_283.txt</td>\n",
              "      <td>February</td>\n",
              "      <td>12</td>\n",
              "      <td>1935</td>\n",
              "      <td>N. R. MALKANI</td>\n",
              "      <td>2472</td>\n",
              "      <td>283. LETTER TO N. R. MALKANI\\nWARDHA,\\nFebruar...</td>\n",
              "    </tr>\n",
              "    <tr>\n",
              "      <th>...</th>\n",
              "      <td>...</td>\n",
              "      <td>...</td>\n",
              "      <td>...</td>\n",
              "      <td>...</td>\n",
              "      <td>...</td>\n",
              "      <td>...</td>\n",
              "      <td>...</td>\n",
              "    </tr>\n",
              "    <tr>\n",
              "      <th>104</th>\n",
              "      <td>volume61_book_611.txt</td>\n",
              "      <td>September</td>\n",
              "      <td>20</td>\n",
              "      <td>1935</td>\n",
              "      <td>AGATHA HARRISON</td>\n",
              "      <td>2751</td>\n",
              "      <td>611. LETTER TO AGATHA HARRISON\\nWARDHA,\\nSepte...</td>\n",
              "    </tr>\n",
              "    <tr>\n",
              "      <th>105</th>\n",
              "      <td>volume61_book_596.txt</td>\n",
              "      <td>September</td>\n",
              "      <td>14</td>\n",
              "      <td>1935</td>\n",
              "      <td>BISWANATH</td>\n",
              "      <td>2947</td>\n",
              "      <td>596. LETTER TO BISWANATH\\nSeptember 14, 1935\\n...</td>\n",
              "    </tr>\n",
              "    <tr>\n",
              "      <th>106</th>\n",
              "      <td>volume93_book_134.txt</td>\n",
              "      <td>September</td>\n",
              "      <td>10</td>\n",
              "      <td>1936</td>\n",
              "      <td>LILAVATI ASAR</td>\n",
              "      <td>2833</td>\n",
              "      <td>134. LETTER TO LILAVATI ASAR\\nWARDHA HOSPITAL,...</td>\n",
              "    </tr>\n",
              "    <tr>\n",
              "      <th>107</th>\n",
              "      <td>volume66_book_219.txt</td>\n",
              "      <td>September</td>\n",
              "      <td>30</td>\n",
              "      <td>1937</td>\n",
              "      <td>SYED BASHIR AHMED1</td>\n",
              "      <td>2775</td>\n",
              "      <td>219. LETTER TO SYED BASHIR AHMED1\\n[Before Sep...</td>\n",
              "    </tr>\n",
              "    <tr>\n",
              "      <th>108</th>\n",
              "      <td>volume67_book_519.txt</td>\n",
              "      <td>September</td>\n",
              "      <td>17</td>\n",
              "      <td>1938</td>\n",
              "      <td>SUSHILA GANDHI</td>\n",
              "      <td>2724</td>\n",
              "      <td>519. LETTER TO SUSHILA GANDHI\\nSeptember 17, 1...</td>\n",
              "    </tr>\n",
              "  </tbody>\n",
              "</table>\n",
              "<p>109 rows × 7 columns</p>\n",
              "</div>"
            ],
            "text/plain": [
              "                      Name  ...                                             Letter\n",
              "0    volume60_book_316.txt  ...  316. LETTER TO AMRIT KAUR\\nUnrevised\\nWARDHA,\\...\n",
              "1    volume60_book_478.txt  ...  478. LETTER TO JETHALAL G. SAMPAT\\nMarch 28, 1...\n",
              "2    volume61_book_588.txt  ...  588. LETTER TO BRIJKRISHNA CHANDIWALA\\nWARDHA,...\n",
              "3     volume93_book_57.txt  ...  57. LETTER TO PURUSHOTTAM K. JERAJANI\\nWARDHA,...\n",
              "4    volume60_book_283.txt  ...  283. LETTER TO N. R. MALKANI\\nWARDHA,\\nFebruar...\n",
              "..                     ...  ...                                                ...\n",
              "104  volume61_book_611.txt  ...  611. LETTER TO AGATHA HARRISON\\nWARDHA,\\nSepte...\n",
              "105  volume61_book_596.txt  ...  596. LETTER TO BISWANATH\\nSeptember 14, 1935\\n...\n",
              "106  volume93_book_134.txt  ...  134. LETTER TO LILAVATI ASAR\\nWARDHA HOSPITAL,...\n",
              "107  volume66_book_219.txt  ...  219. LETTER TO SYED BASHIR AHMED1\\n[Before Sep...\n",
              "108  volume67_book_519.txt  ...  519. LETTER TO SUSHILA GANDHI\\nSeptember 17, 1...\n",
              "\n",
              "[109 rows x 7 columns]"
            ]
          },
          "metadata": {
            "tags": []
          },
          "execution_count": 12
        }
      ]
    },
    {
      "cell_type": "code",
      "metadata": {
        "id": "N5_3Gf1d6nYv",
        "colab_type": "code",
        "colab": {
          "base_uri": "https://localhost:8080/",
          "height": 34
        },
        "outputId": "5925bc3d-d2d2-4c46-a4ac-b7710abcfdd3"
      },
      "source": [
        "from google.colab import drive\n",
        "drive.mount('/content/gdrive')"
      ],
      "execution_count": 14,
      "outputs": [
        {
          "output_type": "stream",
          "text": [
            "Mounted at /content/gdrive\n"
          ],
          "name": "stdout"
        }
      ]
    },
    {
      "cell_type": "code",
      "metadata": {
        "id": "KBVPidCU9RFr",
        "colab_type": "code",
        "colab": {}
      },
      "source": [
        "with open('/content/gdrive/My Drive/file.txt', 'w') as f:\n",
        "  f.write('content')"
      ],
      "execution_count": 15,
      "outputs": []
    },
    {
      "cell_type": "code",
      "metadata": {
        "id": "n6iT5D8Y-Fh4",
        "colab_type": "code",
        "colab": {}
      },
      "source": [
        "df1 = df1.sort_values('Year')"
      ],
      "execution_count": 16,
      "outputs": []
    },
    {
      "cell_type": "code",
      "metadata": {
        "id": "wenILwKu-UNC",
        "colab_type": "code",
        "colab": {
          "base_uri": "https://localhost:8080/",
          "height": 424
        },
        "outputId": "79ae152c-3da6-422b-f8f0-82751b4a0e97"
      },
      "source": [
        "df1"
      ],
      "execution_count": 17,
      "outputs": [
        {
          "output_type": "execute_result",
          "data": {
            "text/html": [
              "<div>\n",
              "<style scoped>\n",
              "    .dataframe tbody tr th:only-of-type {\n",
              "        vertical-align: middle;\n",
              "    }\n",
              "\n",
              "    .dataframe tbody tr th {\n",
              "        vertical-align: top;\n",
              "    }\n",
              "\n",
              "    .dataframe thead th {\n",
              "        text-align: right;\n",
              "    }\n",
              "</style>\n",
              "<table border=\"1\" class=\"dataframe\">\n",
              "  <thead>\n",
              "    <tr style=\"text-align: right;\">\n",
              "      <th></th>\n",
              "      <th>Name</th>\n",
              "      <th>Month</th>\n",
              "      <th>Date</th>\n",
              "      <th>Year</th>\n",
              "      <th>Name of Reciever</th>\n",
              "      <th>Length</th>\n",
              "      <th>Letter</th>\n",
              "    </tr>\n",
              "  </thead>\n",
              "  <tbody>\n",
              "    <tr>\n",
              "      <th>75</th>\n",
              "      <td>volume58_book_394.txt</td>\n",
              "      <td>August</td>\n",
              "      <td>24</td>\n",
              "      <td>1934</td>\n",
              "      <td>VALLABHBHAI PATEL</td>\n",
              "      <td>2962</td>\n",
              "      <td>394. LETTER TO VALLABHBHAI PATEL\\nAugust 24, 1...</td>\n",
              "    </tr>\n",
              "    <tr>\n",
              "      <th>0</th>\n",
              "      <td>volume60_book_316.txt</td>\n",
              "      <td>February</td>\n",
              "      <td>18</td>\n",
              "      <td>1935</td>\n",
              "      <td>AMRIT KAUR</td>\n",
              "      <td>2404</td>\n",
              "      <td>316. LETTER TO AMRIT KAUR\\nUnrevised\\nWARDHA,\\...</td>\n",
              "    </tr>\n",
              "    <tr>\n",
              "      <th>79</th>\n",
              "      <td>volume62_book_202.txt</td>\n",
              "      <td>December</td>\n",
              "      <td>19</td>\n",
              "      <td>1935</td>\n",
              "      <td>JAWAHARLAL NEHRU</td>\n",
              "      <td>2977</td>\n",
              "      <td>202. LETTER TO JAWAHARLAL NEHRU\\nWARDHA,\\nDece...</td>\n",
              "    </tr>\n",
              "    <tr>\n",
              "      <th>84</th>\n",
              "      <td>volume60_book_205.txt</td>\n",
              "      <td>February</td>\n",
              "      <td>3</td>\n",
              "      <td>1935</td>\n",
              "      <td>PREMABEHN KANTAK</td>\n",
              "      <td>2748</td>\n",
              "      <td>205. LETTER TO PREMABEHN KANTAK\\nFebruary 3, 1...</td>\n",
              "    </tr>\n",
              "    <tr>\n",
              "      <th>93</th>\n",
              "      <td>volume60_book_423.txt</td>\n",
              "      <td>March</td>\n",
              "      <td>19</td>\n",
              "      <td>1935</td>\n",
              "      <td>SHANKERLAL BANKER</td>\n",
              "      <td>2981</td>\n",
              "      <td>423. LETTER TO SHANKERLAL BANKER\\nWARDHA,\\nMar...</td>\n",
              "    </tr>\n",
              "    <tr>\n",
              "      <th>...</th>\n",
              "      <td>...</td>\n",
              "      <td>...</td>\n",
              "      <td>...</td>\n",
              "      <td>...</td>\n",
              "      <td>...</td>\n",
              "      <td>...</td>\n",
              "      <td>...</td>\n",
              "    </tr>\n",
              "    <tr>\n",
              "      <th>68</th>\n",
              "      <td>volume73_book_357.txt</td>\n",
              "      <td>January</td>\n",
              "      <td>16</td>\n",
              "      <td>1941</td>\n",
              "      <td>SIR J. G. LAITHWAITE</td>\n",
              "      <td>2518</td>\n",
              "      <td>357. LETTER TO SIR J. G. LAITHWAITE\\nSEVAGRAM,...</td>\n",
              "    </tr>\n",
              "    <tr>\n",
              "      <th>69</th>\n",
              "      <td>volume74_book_299.txt</td>\n",
              "      <td>July</td>\n",
              "      <td>28</td>\n",
              "      <td>1941</td>\n",
              "      <td>IFTIKHAR-UD-DIN</td>\n",
              "      <td>2549</td>\n",
              "      <td>299. LETTER TO IFTIKHAR-UD-DIN\\nSEVAGRAM, WARD...</td>\n",
              "    </tr>\n",
              "    <tr>\n",
              "      <th>71</th>\n",
              "      <td>volume73_book_519.txt</td>\n",
              "      <td>March</td>\n",
              "      <td>19</td>\n",
              "      <td>1941</td>\n",
              "      <td>MIRZA ISMAIL</td>\n",
              "      <td>2688</td>\n",
              "      <td>519. LETTER TO MIRZA ISMAIL\\nSEVAGRAM, WARDHA,...</td>\n",
              "    </tr>\n",
              "    <tr>\n",
              "      <th>70</th>\n",
              "      <td>volume75_book_199.txt</td>\n",
              "      <td>December</td>\n",
              "      <td>1</td>\n",
              "      <td>1941</td>\n",
              "      <td>SUSHILA GANDHI</td>\n",
              "      <td>2590</td>\n",
              "      <td>199. LETTER TO SUSHILA GANDHI\\nDecember 1, 194...</td>\n",
              "    </tr>\n",
              "    <tr>\n",
              "      <th>72</th>\n",
              "      <td>volume74_book_5.txt</td>\n",
              "      <td>April</td>\n",
              "      <td>19</td>\n",
              "      <td>1941</td>\n",
              "      <td>DUNICHAND</td>\n",
              "      <td>2691</td>\n",
              "      <td>5. LETTER TO DUNICHAND\\nSEVAGRAM, WARDHA,\\nApr...</td>\n",
              "    </tr>\n",
              "  </tbody>\n",
              "</table>\n",
              "<p>109 rows × 7 columns</p>\n",
              "</div>"
            ],
            "text/plain": [
              "                     Name  ...                                             Letter\n",
              "75  volume58_book_394.txt  ...  394. LETTER TO VALLABHBHAI PATEL\\nAugust 24, 1...\n",
              "0   volume60_book_316.txt  ...  316. LETTER TO AMRIT KAUR\\nUnrevised\\nWARDHA,\\...\n",
              "79  volume62_book_202.txt  ...  202. LETTER TO JAWAHARLAL NEHRU\\nWARDHA,\\nDece...\n",
              "84  volume60_book_205.txt  ...  205. LETTER TO PREMABEHN KANTAK\\nFebruary 3, 1...\n",
              "93  volume60_book_423.txt  ...  423. LETTER TO SHANKERLAL BANKER\\nWARDHA,\\nMar...\n",
              "..                    ...  ...                                                ...\n",
              "68  volume73_book_357.txt  ...  357. LETTER TO SIR J. G. LAITHWAITE\\nSEVAGRAM,...\n",
              "69  volume74_book_299.txt  ...  299. LETTER TO IFTIKHAR-UD-DIN\\nSEVAGRAM, WARD...\n",
              "71  volume73_book_519.txt  ...  519. LETTER TO MIRZA ISMAIL\\nSEVAGRAM, WARDHA,...\n",
              "70  volume75_book_199.txt  ...  199. LETTER TO SUSHILA GANDHI\\nDecember 1, 194...\n",
              "72    volume74_book_5.txt  ...  5. LETTER TO DUNICHAND\\nSEVAGRAM, WARDHA,\\nApr...\n",
              "\n",
              "[109 rows x 7 columns]"
            ]
          },
          "metadata": {
            "tags": []
          },
          "execution_count": 17
        }
      ]
    },
    {
      "cell_type": "code",
      "metadata": {
        "id": "x-UOraE5-Wit",
        "colab_type": "code",
        "colab": {}
      },
      "source": [
        "k = []\n",
        "for i in range(109):\n",
        "    k.append(i)"
      ],
      "execution_count": 19,
      "outputs": []
    },
    {
      "cell_type": "code",
      "metadata": {
        "id": "sCK80kav-qJC",
        "colab_type": "code",
        "colab": {}
      },
      "source": [
        "s = pd.Series(k)\n",
        "df1 = df1.set_index(s)"
      ],
      "execution_count": 22,
      "outputs": []
    },
    {
      "cell_type": "code",
      "metadata": {
        "id": "DPE-299j_EOY",
        "colab_type": "code",
        "colab": {
          "base_uri": "https://localhost:8080/",
          "height": 35
        },
        "outputId": "5c62b1b5-5283-4367-e881-2c17375e3b51"
      },
      "source": [
        "df1['Name of Reciever '][0]"
      ],
      "execution_count": 23,
      "outputs": [
        {
          "output_type": "execute_result",
          "data": {
            "application/vnd.google.colaboratory.intrinsic+json": {
              "type": "string"
            },
            "text/plain": [
              "'VALLABHBHAI PATEL'"
            ]
          },
          "metadata": {
            "tags": []
          },
          "execution_count": 23
        }
      ]
    },
    {
      "cell_type": "code",
      "metadata": {
        "id": "ux6JQrKy_Ndj",
        "colab_type": "code",
        "colab": {}
      },
      "source": [
        "summary = []\n",
        "year = []"
      ],
      "execution_count": 24,
      "outputs": []
    },
    {
      "cell_type": "code",
      "metadata": {
        "id": "Mkoomdwa_mcT",
        "colab_type": "code",
        "colab": {
          "base_uri": "https://localhost:8080/",
          "height": 104
        },
        "outputId": "cc64f12b-3ad4-43bf-fc8c-3b6fb92324fc"
      },
      "source": [
        "for i in range(109):\n",
        "    df1['Letter'][i] = (df1['Letter'][i].replace(\"-\",\"\")).replace(\"\\n\",\" \")\n",
        "    "
      ],
      "execution_count": 25,
      "outputs": [
        {
          "output_type": "stream",
          "text": [
            "/usr/local/lib/python3.6/dist-packages/ipykernel_launcher.py:2: SettingWithCopyWarning: \n",
            "A value is trying to be set on a copy of a slice from a DataFrame\n",
            "\n",
            "See the caveats in the documentation: https://pandas.pydata.org/pandas-docs/stable/user_guide/indexing.html#returning-a-view-versus-a-copy\n",
            "  \n"
          ],
          "name": "stderr"
        }
      ]
    },
    {
      "cell_type": "code",
      "metadata": {
        "id": "KtzN35Zg_rfs",
        "colab_type": "code",
        "colab": {}
      },
      "source": [
        "for i in range(10):\n",
        "    letter = df1['Letter'][i]\n",
        "    summary.append(summarizer(letter, max_length=130, min_length=30, do_sample=False))\n",
        "    year.append(df1['Year'][i])"
      ],
      "execution_count": 27,
      "outputs": []
    },
    {
      "cell_type": "code",
      "metadata": {
        "id": "f4jCYwIt_wE0",
        "colab_type": "code",
        "colab": {
          "base_uri": "https://localhost:8080/",
          "height": 384
        },
        "outputId": "09fdbb7e-8583-46e4-ab03-136ca77d3858"
      },
      "source": [
        "for i in range(10):\n",
        "  print(summary[i])\n",
        "  print(df1['Letter'][i])"
      ],
      "execution_count": 28,
      "outputs": [
        {
          "output_type": "stream",
          "text": [
            "[{'summary_text': ' BHAISHRI VALLABHBHAI writes to Sardar Vallabhbhaine: \"You are the only person who can be the legal chairman of the Board of the Vidyapith\" He says Narahari should take over management of the Harijan Ashram .'}]\n",
            "394. LETTER TO VALLABHBHAI PATEL August 24, 1934 BHAISHRI VALLABHBHAI, Since Kaka has resigned his place on the Board of Trustees of the Vidyapith, all of us have come to the decision that you should be the Chairman of the Board. We have already appoin ted you to the post. I did not remember what my legal posi tion was in the Vidyapith, so I enquired about it and was told that I had none, but that, morally speaking, they regarded me as its Chancellor and all the teachers had agreed among them selves that I should be permitted to intervene in its affairs whenever I wished to do so. But this is no way of running an organization. You are the only person who can be the legal chairman. I am satisfied with whatever moral position I have and have neither the desire nor the strength to shoulder greater responsibility than that. 1 Vide also the following item. 2 Vide also the preceding item. LETTER TO VALLABHBHAI PATEL 361 Another decision which they have arrived at on my advice and subject to your approval is that Narahari should take over management of the Harijan Ashram and that as many teach ers from the Vidyapith as he may need should be made availa ble to him. The expenditure over Narahari and other teach ers from the Vidyapith who may be assigned to the Ashram should be met from the Vidyapith funds as long as they last. I am of the view that this burden should not be put on the Harijan Sevak Sangh for the present, in view of the policy of the Sangh that it should pay caste Hindus from its funds in as few cases as possible. The ideal is that 95 per cent of the receipts should go directly into the pockets of Harijans. If we wish to realize it, we should set an example with our own workers. The third decision we have takenand this also subject to your approvalis that the remaining teachers should, if they agree, spread out in villages for rural reconstruction work and for service in villages, and start work according to the scheme or plan which I have put forward. Narahari will explain it to you. If you do not approve of any item in it, exclude it unhesitatingly. Kakasaheb, Kishorelalbhai, Maganbhai, Soman and Narahari were present when these decisions were taken and they have agreed with them. About Narahari, I have discussed the idea with Thakkar Bapa also. The Harijan Ashram cannot be run on the best lines unless it gets the services of a person like him. I am sure that, if we run it well, we shall advance the cause of Harijans consi derably. Only then will the gift of the Satyagraha Ashram have been justified. Though I know, therefore, that we can take many other services from Narahari, I think this is the best use we can make of him at present, and he himself is interested in this work and is fully confident of being able to make a success of it. Please, therefore, let Narahari be sacrificed for the Harijan Ashram. Blessings from BAPU [From Gujarati] Bapuna Patro  2: Sardar Vallabhbhaine, pp. 1223 \n",
            "[{'summary_text': ' Amrit Kaur writes: \"Please tell Harijans that in the movement for selfpurifi cation that is going on at present, they are expected not to copy the vices and errors of the socalled caste Hindus\" \"Childmarriages are as common among them as among some caste Hindus,\" she writes .'}]\n",
            "316. LETTER TO AMRIT KAUR Unrevised WARDHA, February 18, 1935 MY DEAR AMRIT, Your letter of 5th instant is still before me. A parcel of envelopes was sent to you the other day. The writers' cramp is still there. I wrote today for Harijan and a few brief letters. But that was about all I could do for the day with the right hand. I know that your entry and that of women like you into the village movement will make it artistic and attractive. I take it that Shummy's1 name may now appear on the Board of Advisers. Never mind his ignorance. It takes a wise man to own his ignorance. And have not doctors to unlearn many things if they would serve villagers? Please tell me his full name and title for the Association Register. My love and thanks to him. I am glad you have commenced your visits to villages. I wish it were possible for you to lessen your desk work and in crease concrete village work. But I see you have a special gift for writing work. Your organization perhaps can't do without the quantity of work you are giving it. Only, please take care not to overwork yourself by reason of your having taken up village work. I have passed on your message to Kumarappa. You are quite right in not taking member's pledges indiscriminately. 1 Addressee's brother Lt. Col. Kanwar Shamsher Singh, a retired surgeon 239 240 THE COLLECTED WORKS OF MAHATMA GANDHI Here is my message to Harijans: \"Please tell Harijans that in the movement for selfpurifi cation that is going on at present, they are expected not to copy the vices and errors of the socalled caste Hindus. I was therefore distressed to find that childmarriages were as common among them as among some caste Hindus. It is a cruel custom having nothing of good in it. They should also know that it has been declared illegal by special legislation. I hope therefore that Harijans will make a great effort to rid themselves of this evil custom.\"1 I hope this meets your requirements. Mira had a bad motor accident. All her companions were hurt. One of them was very badly hurt. She was the least in jured. The car was smashed to pieces. They were all thrown up in the air. It was a miraculous escape. The one who was seriously injured is lying in the local hospital. He is out of danger. No one dies without His will. Love. BAPU SHRI RAJKUMARI AMRIT KAUR JULLUNDUR CITY From the original: C.W. 3522. Courtesy: Amrit Kaur. Also G.N. 6331 \n",
            "[{'summary_text': ' The addressee had noticed several appliances in the American nature cure clinics but had found them much too expensive and complicated for India . Gandhi said: It is needless to say that it is a brilliantly written book, and a great literary production .'}]\n",
            "202. LETTER TO JAWAHARLAL NEHRU WARDHA, December 19, 1935 MY DEAR JAWAHARLAL, I wrote to you last week about the sudden breakdown in Bapu's health. 2 He is progressing well, but it will be some time before his blood pressure becomes normal again. He seems to have worked at high pressure all these months and Dr. Jivraj and Dr. Gilder who examined him two days ago are definitely of opinion that he must have a couple of months' rest. This he has agreed to do. For ten days now he has been in bed resting and sleeping, never reading or writing or dictating. But you will be surprised to know that he continued to do his reading on the commode even during these days! And he finished the 9th Part of your magnum opus—which it really is— this evening. And as soon as he finished it he called me to his bedside and asked me to send you his impressions. If he had been well he should have written himself or dictated something but he did not want to strain himself in the teeth of the doctors' advice and so told me in Gujarati in a minute or 1 The addressee had noticed several appliances in the American nature cure clinics but had found them much too expensive and complicated for India. 2 Vide footnote on p. 169. 172 THE COLLECTED WORKS OF MAHATMA GANDHI two what he felt. What I say will, therefore, be in my language and not his. He said: It is needless to say that it is a brilliantly written book, and a great literary production. There are parts where I have my fundamental differences with you and which I would like to cri ticize, but I will not do so as it is scarcely necessary or useful. For when all is said and done it is a highly introspective narrative containing an expression of your innermost thoughts and convic tions. Even if you could be persuaded to moderate or soften that expression, I should not attempt it, as it would result in taking away from its naturalness, if not also its truthfulness. After all we are helpless actors in the mighty flow of events, we have to act according to our lights allowing or expecting the events to correct us where we err. There is just one thing where perhaps I might make a helpful suggestion. The attack on the Liberals seems to have been overdone. It seems to obtrude on the reader's at tention over and over again and sometimes mars the grace and beauty of the narrative. Not that there is any venom in any thing that you have said; far from it; but you should not be even unconsciously guilty of doing an injustice to them. What you have said about Sastri leaves that impression on me. These friends served the country in their time according to their lights, and whilst we may have our serious differences with them we do not exactly serve the cause of the country by publicly pillorying them. If you have not, therefore, already sent the book on to the publishers, you might alter these portions. . . . Yours affectionately, MAHADEV GandhiNehru Papers, 1935. Courtesy: Nehru Memorial Museum and Library \n",
            "[{'summary_text': ' The fast1 has not in the least led to an increase of weak ness . Fasting never does if one knows how to return to normal diet afterwards . I believe that the effect of my diet on my health has been nothing but beneficial .'}]\n",
            "205. LETTER TO PREMABEHN KANTAK February 3, 1935 CHI. PREMA, I am very late this time in replying to your letter. I get no time at all. I have been writing so much today that the right hand feels tired and I am now writing with the left hand. The body must have lost some strength but I have no such feeling. The fast1 has not in the least led to an increase of weak ness. Fasting never does if one knows how to return to normal diet afterwards. I believe that the effect of my diet on my health has been nothing but beneficial. But I cannot give reasons for this belief. I am very glad that Father, Mother and others came and saw you. There is certainly a remedy for the frequent pimples which you get. For a few days live only on fruit and uncooked bhaji. Take steam treatment and the pimples will then immediately 1 From August 7 to 13, 1934, undertaken to atone for the beating up of Lalnath, an opponent of Gandhiji's Harijan activities; vide Vol. LVIII. 163 164 THE COLLECTED WORKS OF MAHATMA GANDHI shrink. Having done this, bathe in cold water. The skin will probably clear up in three or four days. Then start taking milk or curd which is not sour along with fruit and uncooked bhaji. Among the different bhajis, fenugreek leaves, spinach, luni and lettuce are the best. I eat even the leaves and twigs of mustard. To pray to God for anything means to aspire for it intensely. God is both different and not different from us. He is different be cause He is perfect, and He is not different because we are a portion of Him. If a drop of water separated from the sea may not pray to the sea, to whom else may it pray? But does the sea have to do anything to answer the prayer? Prayer is the an guished cry of one who cannot bear separation. The embodied soul cannot help uttering such a cry. The key to the nation's progress both is and is not in our hands. We can help in its progress if we reduce ourselves to a cipher. It is in our hands to do that. But the progress itself is not in our hands, because our reducing ourselves to a cipher means leaving ourselves entirely in the hands of God who alone is the digit of unity. \"O Udho, the secret of karma is beyond human under standing\" is an absolute truth. We can know that there is a law of karma, but we do not know how it works. That is God's mercy. We do not know the laws of even an earthly king. How then can we know the laws of God who is Law personified? The appearance of victory in the early part of this struggle was an illusion, and the appearance of defeat also is nothing but an illusion. In the lexicon of one who has unshakable faith in the ultimate victory of truth, there is no such word as \"defeat\". Blessings from BAPU From a photostat of the Gujarati: G.N. 10366 \n",
            "[{'summary_text': ' Handiness has to be proved with reference to crores of cottages scattered in 700,000 villages of India . No woman has worked at it for eight hours at a stretch here .'}]\n",
            "423. LETTER TO SHANKERLAL BANKER WARDHA, March 19, 1935 MY DEAR SHANKERLAL, I have already handed to you Messrs Kirloskar Bros. letter of 14th instant addressed to me. I commend their letter to the earnest attention of the examiners. As Messrs Kirloskar Bros. have permitted me to give my own opinion, I do so for the guidance of the examiners. The numbers against the following paragraphs refer to those in their letter. (2) The trial at Wardha is not yet complete. In so far as it has gone, I can say that a capable worker did succeed once or twice in spinning over 8,000 yards in 4 hours. There never has yet been an output of 16,000 in eight hours at Wardha. No woman has worked at it for eight hours at a stretch here. My trial of it is still proceeding. I should like to try it for SIX 1 Jamnalal Bajaj's diary contains an entry under this date regarding the deputation and Gandhiji's assent to preside over the Hindi Sahitya Samme lan to be held at Indore in April 1935. 315 316 THE COLLECTED WORKS OF MAHATMA GANDHI months before pronouncing an opinion on its average capacity. But if the examiners are satisfied on this point, absence of a con clusive opinion from me need not in any way delay or otherwise affect the examiners' award. (5) I am unable to subscribe to the opinion that the machine \"has fulfilled all the important and major conditions of the com petition\". I have up to now only applied myself to two conditions, viz., 1st and 4th. I do not regard the 1st condition as to handiness as a minor one. Indeed it is in my opinion the one unalterable condition. Without that condition, there would surely be no difficulty in produ cing a machine that would give more than 16,000 yards in 8 hours. Handiness has to be proved with reference to the crores of cottages scattered in 700,000 villages of India. Accepting Webster's defini tion of 'convenient', a mere look at the machine would convince one who has any knowledge of Indian cottages and conditions that the machine cannot be called handy in any shape or form. For an Indian cottage it is without doubt a cumbersome piece of machinery. As to conditions 5 and 6, I am wholly incompetent to pronounce an opinion. As to condition 2, it is yet too early for me to pronounce an opinion. I understand from Shri Kale as also from the members of the firm who were good enough to visit me that the machine is not capable of being reduced in size any further than it is already. I am quite satisfied that the machine cannot be accommodated in an Indian cottage of the average size. The firm's suggestion that cottages should be specially built in order to house the machine is too unpractical to need refutation. In my opinion, therefore, the machine does not satisfy what to me is one of the vital conditions of the prize. But it may not be considered as more than the evidence of a witness before the judges. Yours sincerely, SJT. SHANKERLAL BANKER AHMEDABAD From a copy: Pyarelal Papers. Courtesy: Pyarelal \n",
            "[{'summary_text': ' Narayan Moreshwar Khare wrote to PREMABEHN KANTAK . Lilavati has arrived here from Rajkot . She has gained weight and seems to be happy .'}]\n",
            "167. LETTER TO PREMABEHN KANTAK Unrevised May 28, 1935 CHI. PREMA, Why did you have to keep waiting for fortyfive minutes? In any case, I didn't think you would run away. Since you were meeting me after a long time, I was eager to ask you a few ques tions and have a careful look at you. Of course you did well to go back to your place of work. But I was eager because on that day you had stayed on. I am unable to say anything about Aurobindobabu. If a man with a flabby body cannot have pure wisdom, what can one say of one who is slim? I can only say that my path has borne fruit for me. Let us not make ourselves judges of the whole 1 Narayan Moreshwar Khare 2 Vide p. 91. LETTER TO PREMABEHN KANTAK 113 world. We should admit that among the two hundred persons living under his wing there are several whose lives have undergone a great transformation through his influence. Everybody follows his own natural bent. It is not quite correct to say that in the West they do not recognize the necessity of purity in private life, nor is it correct to say that here everybody recognizes it. We ourselves not only recognize it, but go further and believe that the actions prompted by a reason not purified inwardly will not endure, however attractive they may appear. Such actions cannot be judged from their immediate results. It is true, of course, that actions which have no connection with morality do not require inward purity. A dissolute carpenter will be able to make a rightangled table. But a person lacking in purity will not be able to eradicate untouchability or turn the people to the spinningwheel, for both these tasks require qualities of the heart. In such activities calculations of time count for little. We should have no doubt at all that actions performed with sincere and truthful motives are bound to have certain results. If we do not have such faith, we shall never be able to adhere to moral principles. God is beyond the reach of human thought. The God, there fore, whom we worship is a creation of our imagination. Nobody has seen the real God. If anybody has seen Him, he has not been able to describe Him. It is difficult to say which Form of Him is dearest to me. The Form, however, which I worship is known as Truth. He both has a manifest form and has none. He manifests Himself in innumerable ways. How can imperfect man see perfect truth? I don't intend to write anything about the jewellery though I have already made a note of the point in my diary. The additional note which will appear after your letter will be for my information. Isn't that what you desire? I will use the khadi when it is received. Lilavati has arrived here from Rajkot. This time her health is excellent. She has gained weight, too, and seems to be quite happy. I intend to leave on the 31st and reach Wardha on the 2nd. Blessings from BAPU From a photostat of the Gujarati: G.N. 10373 618 \n",
            "[{'summary_text': ' Mirabehn writes to Narandas Gandhi: \"I did not at all like Harilal\\'s idea about watches\" Mathew has grown impatient about coming to Wardha Ashram . Titus has not gone on leave. Titus has left altogether . Prema came and saw me. She handed over some of her jewel lery to Father Prema . If you have preserved her last two letters, send them to Gomati to read .'}]\n",
            "128. LETTER TO NARANDAS GANDHI May 23, 1935 CHI. NARANDAS, I got your letter today. I have sent you a wire asking you to send Keshu. I do not remember your having asked for my permission. I did not at all like Harilal's idea about watches.5 Dissuade him. If he goes in for it in spite of that, let him. 1 In Bapu's Letters to Mira, Mirabehn explains: \"On my return from Europe, I joined Bapu at Wardha Ashram. Not long after, Bapu took up residence at Maganwadi, where the Village Industries Association was then taking root. I had remained on there when Bapu wrote the . . . letter . . .\" 2 The source has \"22\" which is obviously a slip. Gandhiji reached Borsad on this date. 3 Anandi Asar 4 Bal Kalelkar 5 Harilal Gandhi wanted to start business in watches; vide \"Letter to Manilal and Sushila Gandhi\", p. 98. 90 LETTER TO NARANDAS GANDHI 91 Mathew has grown impatient about coming. The Ashram does not owe him anything. If you feel inclined, we may send him railway fare for coming; I don't. If he is very eager to come, he will, I am writing to him and informing him that if he does not come in a few days, time he will not be taken up. Titus has not gone on leave. He has left altogether. He was paid railway fare for the journey. I had agreed to keep him at Wardha, but he did not seem very eager. However, he will reply from Travancore. I have refused to give him a note of recommendation on anybody else. For the present draw the amount for Tharparkar from the Ashram account. Afterwards if necessary I will pay it from some other account. In my view Chimanlal1 is spending too much. But since we have tolerated similar expenditure by others, we should tolerate it in his case too. To a certain extent the desire to recover and to live on clings in all of us. Each one fixes his own limit of expenditure. Chimanlal is satisfied merely with staying in Veraval and having Talwalkar's2 injection. But we have spent over others much more than that. I, therefore, do not feel like imposing exces sive restrictions on senior workers. We should be satisfied with whatever selfrestraint he exercises. Do you have anything else to suggest in this matter? I see that we shall not get interest. It seems that giving money to Gajanan was a mistake. He had even given up study. The payment to Dhiru also should stop. He will have a copy of the agreement he gave in writing. It may be with Chhaganlal. Look into the matter. Was my suggestion to Lilavati all right? I am writing separately to Father3. Prema came and saw me. She handed over some of her jewel lery. We couldn't have any talk. If you have preserved her last two letters, send them to Gomati to read. (She is at Wardha). Blessings from BAPU From a microfilm of the Gujarati: M.M.U./II. Also C.W. 8445. Courtesy: Narandas Gandhi 1 Chimanlal N. Shah, a senior inmate of the Ashram 2 Dr. Talwalkar of Ahmedabad 3 Khushalchand Gandhi; vide the following item. \n",
            "[{'summary_text': ' The argument has often been advanced against the use of khadi and we have solved the difficulty in but one way . Many of us reduced the consumption of cloth after they started using costly khadi . Those who could not reduce consumption saved on other items but did not accept defeat .'}]\n",
            "29. LETTER TO CHHAGANLAL JOSHI October 11, 1935 CHI. CHHAGANLAL, I got your letter. Encouraged by you, I am pressing Jivanlal bhai. I am sending your letter to him. I will write to you after I receive his reply. If Pranjivan Joshi has already been relieved I will not waste time in inquiring into the matter now. Let me know the result of your experiments in making manure out of bones and carcasses. You shouldn't have had the difficulty which you had regar ding the use of handmade paper. The argument has often been advanced against the use of khadi and we have solved the difficulty in but one way. Though khadi is relatively costly, those who have understood its importance have found a way of making it cheap for themselves. Many of us, for instance, reduced the consumption of cloth after they started using costly khadi and on the whole effected some saving. Those who could not reduce consumption saved on other items but did not accept defeat. Similarly, when we resolved to use handmade paper, we reduced writing or included more matter in a given amount of space than previously. We stopped using envelopes costing four or five pice and started using postcards costing three pice only. I resumed here the practice of writing on small slips of paper, which I used to follow in jail. On the balance, therefore, our expenditure on postage has not increased. I do not know how things are in Delhi. But I hope Malkani has started practising economy. What we give to the Government is in fact given to ourselves. It is, therefore, not right to think that we should spend less on postage because the money goes to the Government. Even when the Government will be in our hands, it will certainly not be proper for public workers to spend extra vagantly on postage. In jail, we tried to keep the consump tion of everything to a minimum because we thought that all things in the country belonged to us. For, no matter who ran the Government, everything it owned belonged to us, the people. The 20 LETTER TO BALIBEHN M. ADALAJA 21 money that we give to the Government is spent for Government purposes. Because the Government money is spent extravagantly when the Government is in foreign hands, it does not mean that such money ceases to be ours. It is our duty of course to check its extravagance. But so long as it continues, it is we, the people, who provide the money in one way or another. Hence the argu ment of increase in postage should not be advanced against the use of handmade paper. In propagating the use of such paper, the expenditure on postage may perhaps go up in the beginning. Even then, if the use of handmade paper is likely to increase through our example we ought not to grudge the additional expense on postage. Those teachers who see the moral necessity of manual work will themselves find out some crafts which they can take up. Nobody else can advise them in this matter. Blessings from BAPU From a photostat of the Gujarati: G.N. 5536 \n",
            "[{'summary_text': \" Your work in connection with Jawaharlal's release was prompt and glorious . I know you do not want thanks. You may have them by the trainload if you want them . Ghanshyamdas had to leave this morning abruptly, for he received a telegram yesterday that his mother was suffering from fever .\"}]\n",
            "611. LETTER TO AGATHA HARRISON WARDHA, September 20, 1935 MY DEAR AGATHA, I have not been able to write to you for weeks though I have succeeded at times in asking someone to write to you for me. All this of course apart from what Mahadev and Chandra shanker may be writing to you. Your work in connection with Jawaharlal's release was prompt and glorious. As you very pro perly say, it was more humanitarian than political. I am glad, too, that the authorities rose to the occasion and lost not a minute in granting adequate relief. At this end, too, our machinery was set in motion. The whole thing ended so well. This release of Jawaharlal stands out prominently as the one bright spot on the black and mournful surface. I know you do not want thanks. You may have them by the trainload if you want them. I know this, that it would have been a severe disappoint ment to me if you had not acted as you did. You have accustomed me to look for such prompt and decisive action on your part. Do please, however, thank all those who helped you and made your difficult mission so completely successful. You did well in 1 The letter was in reply to one dated September 19, 1935 from the addressee. 429 430 THE COLLECTED WORKS OF MAHATMA GANDHI flying to Badenweiler.1 I am eagerly looking forward to your description of the visit. There can be no doubt that, if we really ever succeed in disturbing God's plans and if God has any plans, these efforts resulting in Jawaharlal's reaching there have pro longed Kamala's life. I am oldfashioned enough to believe that not a blade of grass moves but by His will. Then, too, I can derive ample satisfaction in the knowledge that you and other friends conspired to fulfil God's purpose and therefore whilst you were doing your duty angels above were saying, 'well done, well, done'. Ghanshyamdas had to leave this morning abruptly, for he received a telegram yesterday that his mother was suffering from fever. He would otherwise have stayed here at least four days longer. He was able, however, to give me a fair summary of his doings there. Charlie must have told you all about the situation here. I can add nothing to what he must have said. I hope he benefited by the voyage. He needed rest badly. I wish so much that he would abide by the plans made here, namely, that he would live in Cambridge or some such place and busy himself in writing work of a permanent nature, holding himself at your dis posal when there might be something on which he alone could throw light or give guidance. I hope that you would encourage this plan. I know what a weak spot he has for you. Therefore you can always successfully act as the temptress if you chose. I must stop now. Love. BAPU From a photostat: G.N. 1492 \n",
            "[{'summary_text': ' BISWANATH KHADI PRATISHTHAN SODEPUR, NEAR CALCUTTA, wrote to M. K. GANDHI September 14, 1935 .'}]\n",
            "596. LETTER TO BISWANATH September 14, 1935 MY DEAR BISWANATH, Neither Baba1 nor Ma 2 should have suppressed you. You have a perfect right to write to me as you have now at last done. You have a double claim upon me. First because you are in an orga nization of which I am the head and secondly because you are connected with two persons 3 who have for many years accepted my word as law. In writing your letter, therefore, you have not only recognized your unadulterated right but you have also per formed the duty which you owe to me. That you have grievously erred in your writing does not in any shape or form diminish the value of your letter. On the contrary, the value is enhanced in that you have dared to tell me what you hold to be unadulterated truth although it may appear bitter to me and although I may consider it to be the reverse of truth. Very often we mount to truth by wading through errors so long [as] they do not appear to us to be errors. Your attachment as distinguished from affection for khadi has led you into a maze of errors. AllIndia Spinners' Association is the head and the associations affiliated to it are the branches. The head has rights which branches do not and cannot possess. What appeared to me at one time a sound policy under given circumstances may prove unsound under altered circumstan ces or on a fuller perception of even same circumstances. I would be an unworthy head of an organization if I sacrificed its interests for a seeming consistency. Again the liberties that Baba and Ma have allowed me to take with them and their creation I may not take with others. I would never be afraid of being misunderstood by them. Everyone of my actions in connection with Pratishthan, therefore, you have to interpret in the light of my relationship with Baba and Ma. It is a relationship of their creation. So much for the Pratishthan. Now for my new experiment. Since you admit that I am the creator of the khadi movement I must have the right to regulate its growth and even to destroy it. He who creates 1,2&3 Satis Chandra Das Gupta and his wife Hemprabha Das Gupta 419 420 THE COLLECTED WORKS OF MAHATMA GANDHI can also recreate. And if I found that I made a mistake in fashioning my creation I must have the right to refashion it in any manner I like so long as I carry with me my associates in nursing the creation. You would admit that I would be a traitor to my own creation if for fear of the judgment of fellowworkers like you I fail to act up to my own judgment if it abide in spite of the criticisms of fellowworkers. I think this covers all the points that you have raised. You may write to me as often as you like till I have convinced you or till you despair of my ever succeeding in convincing you. Yours sincerely, M. K. GANDHI [PS.] I shall regard your letter as purely personal as desired by you. SJT. BISWANATH KHADI PRATISHTHAN SODEPUR, NEAR CALCUTTA From a photostat: G.N. 2729 \n"
          ],
          "name": "stdout"
        }
      ]
    },
    {
      "cell_type": "code",
      "metadata": {
        "id": "zEDDGjDKAmXn",
        "colab_type": "code",
        "colab": {
          "base_uri": "https://localhost:8080/",
          "height": 1000
        },
        "outputId": "08e41af2-16f7-4792-9f99-1b086765d8e8"
      },
      "source": [
        "for i in range(10,109):\n",
        "    letter = df1['Letter'][i]\n",
        "    summary.append(summarizer(letter, max_length=130, min_length=30, do_sample=False))\n",
        "    year.append(df1['Year'][i])  \n",
        "    if(i%5):\n",
        "      print(i)"
      ],
      "execution_count": 30,
      "outputs": [
        {
          "output_type": "stream",
          "text": [
            "11\n",
            "12\n",
            "13\n",
            "14\n",
            "16\n",
            "17\n",
            "18\n",
            "19\n",
            "21\n",
            "22\n",
            "23\n",
            "24\n",
            "26\n",
            "27\n",
            "28\n",
            "29\n",
            "31\n",
            "32\n",
            "33\n",
            "34\n",
            "36\n",
            "37\n",
            "38\n",
            "39\n",
            "41\n",
            "42\n",
            "43\n",
            "44\n",
            "46\n",
            "47\n",
            "48\n",
            "49\n",
            "51\n",
            "52\n",
            "53\n",
            "54\n",
            "56\n",
            "57\n",
            "58\n",
            "59\n",
            "61\n",
            "62\n",
            "63\n",
            "64\n",
            "66\n",
            "67\n",
            "68\n",
            "69\n",
            "71\n",
            "72\n",
            "73\n",
            "74\n",
            "76\n",
            "77\n",
            "78\n",
            "79\n",
            "81\n",
            "82\n",
            "83\n",
            "84\n",
            "86\n",
            "87\n",
            "88\n",
            "89\n",
            "91\n",
            "92\n",
            "93\n",
            "94\n",
            "96\n",
            "97\n",
            "98\n",
            "99\n",
            "101\n",
            "102\n",
            "103\n",
            "104\n",
            "106\n",
            "107\n",
            "108\n"
          ],
          "name": "stdout"
        }
      ]
    },
    {
      "cell_type": "code",
      "metadata": {
        "id": "5BwM7mwIBL_9",
        "colab_type": "code",
        "colab": {}
      },
      "source": [
        "with open('/content/gdrive/My Drive/summaries.txt', 'w') as f:\n",
        "  for i in range(109):\n",
        "    if year[i-1] != year[i]:\n",
        "      f.write('\\n\\nIn year ' + str(year[i]) + ', the following were the summaries obtained from the letters:\\n\\n')\n",
        "    f.write(summary[i][0]['summary_text'] + '\\n')"
      ],
      "execution_count": 61,
      "outputs": []
    },
    {
      "cell_type": "code",
      "metadata": {
        "id": "4JihUbOeHvfk",
        "colab_type": "code",
        "colab": {
          "base_uri": "https://localhost:8080/",
          "height": 1000
        },
        "outputId": "d1f3e51d-2bc1-4854-c649-f334c0ca3944"
      },
      "source": [
        "for i in range(109):\n",
        "  if year[i-1] != year[i]:\n",
        "    print('\\nIn year ' + str(year[i]) + ', the following were the summaries obtained from the letters:\\n')\n",
        "  print(summary[i][0]['summary_text'])\n"
      ],
      "execution_count": 57,
      "outputs": [
        {
          "output_type": "stream",
          "text": [
            "\n",
            "In year 1934, the following were the summaries obtained from the letters:\n",
            "\n",
            " BHAISHRI VALLABHBHAI writes to Sardar Vallabhbhaine: \"You are the only person who can be the legal chairman of the Board of the Vidyapith\" He says Narahari should take over management of the Harijan Ashram .\n",
            "\n",
            "In year 1935, the following were the summaries obtained from the letters:\n",
            "\n",
            " Amrit Kaur writes: \"Please tell Harijans that in the movement for selfpurifi cation that is going on at present, they are expected not to copy the vices and errors of the socalled caste Hindus\" \"Childmarriages are as common among them as among some caste Hindus,\" she writes .\n",
            " The addressee had noticed several appliances in the American nature cure clinics but had found them much too expensive and complicated for India . Gandhi said: It is needless to say that it is a brilliantly written book, and a great literary production .\n",
            " The fast1 has not in the least led to an increase of weak ness . Fasting never does if one knows how to return to normal diet afterwards . I believe that the effect of my diet on my health has been nothing but beneficial .\n",
            " Handiness has to be proved with reference to crores of cottages scattered in 700,000 villages of India . No woman has worked at it for eight hours at a stretch here .\n",
            " Narayan Moreshwar Khare wrote to PREMABEHN KANTAK . Lilavati has arrived here from Rajkot . She has gained weight and seems to be happy .\n",
            " Mirabehn writes to Narandas Gandhi: \"I did not at all like Harilal's idea about watches\" Mathew has grown impatient about coming to Wardha Ashram . Titus has not gone on leave. Titus has left altogether . Prema came and saw me. She handed over some of her jewel lery to Father Prema . If you have preserved her last two letters, send them to Gomati to read .\n",
            " The argument has often been advanced against the use of khadi and we have solved the difficulty in but one way . Many of us reduced the consumption of cloth after they started using costly khadi . Those who could not reduce consumption saved on other items but did not accept defeat .\n",
            " Your work in connection with Jawaharlal's release was prompt and glorious . I know you do not want thanks. You may have them by the trainload if you want them . Ghanshyamdas had to leave this morning abruptly, for he received a telegram yesterday that his mother was suffering from fever .\n",
            " BISWANATH KHADI PRATISHTHAN SODEPUR, NEAR CALCUTTA, wrote to M. K. GANDHI September 14, 1935 .\n",
            " If Harijans are physically illtreated in a place and if they cannot get redress in any other way, they should leave that village . I started advocating it in 1906 and gave expression to my views in writing in 1908 . Since then I have given the same advice on all occasions . We should not treat the Kavitha chapter as closed .\n",
            " Every weaver family should spin its own yarn, that is to say, it should do the ginning, carding and spinning . Such a family should use for itself the khadi woven by it and put the surplus on the market . The income of the weaver would increase in exact proportion to the skill employed in producing good yarn .\n",
            " The clothes you have for Quetta relief, may be sent to Dr. Gopichand1 for refugees in the Punjab, unless of course there are refugees in Simla itself, in which case you can distribute your clothes among them . Please hand over the enclosed letter to Andrews.\n",
            " Kamalnayan has left for Allahabad . I would like to meet her before the betrothal takes place . Ramakrishna has accompanied me to Indore . He has been detained there by Gulab .\n",
            " Premabehn Kantak writes to Premabehn KANTAK on September 28, 1935 . He writes: \"Your letter calls for immediate reply. Do come some time about the 16th\"\n",
            " I would even like it if you stay there till the beginning of winter . The winter of Simla is even more famous, and in winter the cost of living there is much less than even in Wardha . Balkoba is experimenting with an exclusive milk diet under the guidance of Gaurishankar .\n",
            " Letter to C. F. ANDREWS WARDHA: \"If I am not enthusiastic about any Indian going to England,1 I have the soundest reasons\" Agatha: \"For we look to Mahatmaji to be above the battle\"\n",
            " K. M. Munshi's name was suggested for the forthcoming session of the Sahitya Parishad . Munshi: \"I see no likelihood of that aspiration being realized through my becoming its President\" Munshi says he would find it difficult to make the selection, since I do not know everybody .\n",
            " The people in Simla look down upon khadi and there is a class that is afraid to wear it . Your idea of having a swadeshi mart on the Mall is attractive but its execution is risky . I doubt the utility of aiming at gaudiness .\n",
            " N. R. MALKANI WARDHA sent a letter to N.R. Malkani about the byelaws . He said he had not forgotten them at all, but could not do anything to frame them .\n",
            " The judgment about his Sevak Sangh has already been given . The personal matter has therefore ended there . I suggested an inquiry into the whole management of the Bhandar . Even if I had not done so, it was my duty as President to inquire .\n",
            " Mehrtaj will not come to Wardha but wants to live in Wardha as the others are living . She is physically and mentally unable to do so; and she won't live as she would like to . In Mariam she has a com panion of her age and habits, so she would not leave her .\n",
            " Gandhiji had begun this letter on September 12, 1935, but was interrupted by the arrival of Rajagopalachari and could complete it only the next day . The collection of the collected works of MAHATMA GANDHI should be returned to the Ashram .\n",
            " Narayan J. Sampat writes to Jethalal G. Sampat . Sampat: \"My assessment of his work from the shortcomings he could discern, can never be proved wrong\"\n",
            " Ramdas is in Bombay trying to regain health and confi dence in himself . Ambujam must have told you that the three girls who were to come to Madras do not want to . If you are opening the Ashram, you should do so without any fuss or ceremony . I am keeping up weight at 109 lb.\n",
            " There is great risk in taking Russia as a model to be emulated . We should, therefore, leave out Russia when thinking about our problems . The easiest way of securing justice from the rich is to see that they make the best use of the wealth they earn .\n",
            "\n",
            "In year 1936, the following were the summaries obtained from the letters:\n",
            "\n",
            " The AllIndia Cow Protection League. Gandhiji resigned as its Presi dent after it was decided that every trustee must use only cow's milk .\n",
            " Narandas Gandhi writes to his mother-in-law: 'I hope this place will help her recover her health' Kusum is having a nice time. She comes out daily for a walk with me. Kanu moves about, absorbed in his work. He has been trying to train his hand on the dilruba . His instrument accompanies the Ramayana recitation every day. All the three brothers 3 sing the verses in unison .\n",
            " Mary Barr received the news of Mary Chesley's death only on May 15; vide the following item . Mary Barr had warned her against braving the pilgrimage, but she had an iron will .\n",
            " L.A. Gandhi wrote to his daughter to ask her to give up Segaon . He said he was protecting her from attacks from others . He wrote: \"Forgive me for the unhappiness I caused you\"\n",
            " BHAI RAMNARAYAN N. PATHAK wrote to Ramnarayan N. Pathak in 1936 . Narmada was a foolish girl and has very little understanding, Pathak wrote .\n",
            " Frontier Gandhi is not sent out anywhere . Why is it not possible to find out from the books what amount was sent by Sorabji? Durban has been urgently demanding it .\n",
            " The value of cooking and similar work has gone down very much, but at Sabarmati the responsibility of the kitchen was entrusted only to a mature and experienced Ashram worker . Do come to Wardha before going to Bochasan. Gomati will try to drag you to her place .\n",
            " Premabehn Kantak writes to PremabehN KANTAK: \"My practice of resting my hands on the shoulders of girls has nothing to do with my sensual desire. It had its origin in my pampering the body with food while doing no work. I had a discharge, but the mind was under control.\"\n",
            " MRIDULA SARABHAI SEGAON, WARDHA, August 7, 1936, wrote to Sarabhai Foundation . She was surprised to see that she had time to write such long letters . She said: \"I do not know what you would be able to do in the Women's Conference to be held at Ahmedabad\"\n",
            " Narandas Gandhi's school should be closed unless it becomes self-supporting . He has assured him that he may rely with out fear on my promise that I would gladly let him go any time he thinks he has had enough of me or wants to go to Panditji or anywhere else .\n",
            " Premabehn Kantak wrote to the addressee for the duration of Congress session . Gandhiji used inferior handmade paper and ink . The superior paper had been given away to an other person . To be an atheist till one comes to have faith in God is as reasonable as trying to cremate the body of a man .\n",
            " In my disconsolateness over Ansari's death I thought of you, Shuaib and Zakir Husain . I told him this was not an opportune time politically for a national memorial to so big a man . I have in mind not the financial stringency but the political condiption .\n",
            " Amrit Kaur writes to Rajkumari: \"Your sales of khadi certainly went beyond even my expecta tions\" Nanavati is so well that he is leaving today to pass a few days among his family and friends .\n",
            " The idea of having shareholders does not seem right . The subscribers to Indian Opinion are not exactly its readers but rather patrons . You should stop running around and find another honest trade which can support both you .\n",
            " Khadi is one of our eleven vows. Swadeshi has been considered the core of swadeshi. Even so, we have very few people giving cons 1 Of the Bhagavad Gita 2 Chapati 132 THE COLlected Works of MAHATMA GANDHI .\n",
            " Sujna Bhaishri wrote to AnanDSHANKAR B. DHRUVA in 1936 . She wanted to write something which could be written in just eight hours . She was scared going through her letters to Maha dev.\n",
            " The fever came on swift as a horse but my strength is returning at an ant's pace . I am not impatient to drag him back into public life; I am impatient to see his mind purified . He will not remain in Almora if he has regained purity . Only harm will be done to him and to public work by luring him into a hasty comeback .\n",
            " Thank you for the letters you have been contributing in connection with the terrible leprosy in India . I know from personal experience of village workers of the increasing number of lepers . My complaint is that that work is not done without an alien motive behind it .\n",
            " Amrit Kaur writes to Amrit on Nandi Hill: \"I do not know a more secluded, cleaner, quieter hill\" Dr. Ansari who wanted the Sardar to pass the summer on a hill is no more dead .\n",
            "\n",
            "In year 1937, the following were the summaries obtained from the letters:\n",
            "\n",
            " Dear Sir Purushottamdas Thakurdas writes to the Nehru Memorial Museum and Library . He asks for permission to write in Gujarati . The superscription and subscription are in Hindi .\n",
            " Jethalal G. SAMPAT SEGAON could not withstand Sardar's insistence on making cow's ghee . Ghee made from pure cow's milk fetches a lower price in the market . Nowadays ghee made out of pure buffalo's milk fetch a good price .\n",
            " The Hindu, 2101937, wrote to the editor of Isha' ate Taleem . He had no hesitation in advising Congress to adopt officeacceptance programme .\n",
            " Gandhi wrote to JAWAHARLAL NEHRU on the train taking us to Delhi on August 3, 1937 . Herewith is my Foreword or whatever it may be called. I suggest your removing the adverb .\n",
            " There can be no cause at all for worrying about Kanaiyo, writes Chhaganlal . Lilavati, through her own thoughtlessness, is laid down with pain in the ribs . When she herself wishes to go there, I shall not stop her .\n",
            " JOSHI SEGAON writes to Chhaganlal asking why she can't promise 25,000 rounds in the spinning yajna . He asks why she couldn't quadruple 17,000 and make it 68,000 . Narandas is hesitating to undertake the preparation of the . manual .\n",
            " The views which you have expressed are a sign of cowardice . It does not befit a satyagrahi to think of quietly disobeying a law out of desperation and submitting to imprisonment .\n",
            " Mirabehn writes to addressee: \"Bapu sent you a reassuring wire this morning, and this is just to add a few words. He really is much better today. The tiredness to which Jamnalalalji refers in his Press message is the end of the tiredness of which you saw the beginning. Now rest and plenty of sleep have made a wonderful difference.\"\n",
            " Shri Nariman's recantation of the confession alters the position and reveals the painful state of his mind . I am of opinion that by his conduct Nariman has proved himself unworthy of holding any position of trust, not by his subsequent con duct as betrayed in the correspondence .\n",
            " Mahadev Desai wrote to ShivPRASAD GUPTA on February 18, 1937 . Desai: 'I have no enmity toward foreign countries but I cannot harm my country for their sake' Desai says he has no resentment towards protag onists of solar calendar .\n",
            " A sister from Madras had come here the day before yesterday and left the same day . She had also brought her vina, which was worth Rs. 150 . She sang, too, to the accompaniment of the vina .\n",
            " Mirabehn wrote to NIRMALA GANDHI SEGAON, WARDHA, September 19, 1937 . NIMU: We call illness corpo ral punishment. Such a body deserves the punishment. Don't be impatient now. Do not worry. Busy yourself with your work. I shall find out about Usha and also write to Sarita .\n",
            " N. PATEL TITHAL, BULSAR, wrote to VIJAYA N. Pancholi in 1937 . She had a long talk with Naranbhai and Sardar about her desire to marry Manubhai . She said: \"If she wants to marry only with our consent, why does she bring up her name?\"\n",
            " SEGAON: It has been impossible to write to you during the week days in spite of your gentle complaint . I have no time for prac tice. If you insist on my tearing your letters as soon as I have read them, you must not expect me to remember your questions for whole seven days and then answer them on Sundays . Your cheque has gone to Delhi. You may expect a formal receipt from them .\n",
            " S. Ambujammal wrote to S. AMBUJAMMAL SEGAON, WARDHA, October 8, 1937 . When you can at all get away for a few days, with parents' full consent and blessings, do not hesitate to come for fear of getting ill .\n",
            " Devsharma ji1 has sent one of your letters, the other one he had torn up . Devasharma has a royal heart. He was almost ready to take you. Even now, if I urge him, he would do so . I would throw a letter like this from a stranger into the wastepaper bas ket .\n",
            " M. K. GANDHI writes to S. S. BHAI SAMPURNANAND . He says he has no difficulty in accepting almost all the principles of socialism . Neither in your book nor in his do I find a clear idea how the ultimate revolution will be brought about .\n",
            " Nehru writes to his wife to express his thoughts on the Jhansi election . Rajaji has sent me a cutting containing his speech . Meherally's speech in Madras is an eyeopener for me. I call it a bad speech of which you should take notice .\n",
            " Rabindranath has made the largest contribution in that direction but it has not been through any organization . The solid work for villages that I have in mind is the work such as the Spinners' Association is doing among thousands of artisans .\n",
            " The vegetarians may keep meateating animals, but they should not procure meat for them, e.g., the cat and the dog . Drying, pickling and cooking are forms of violent possessiveness and should, therefore be eschewed .\n",
            "\n",
            "In year 1938, the following were the summaries obtained from the letters:\n",
            "\n",
            " Kantilal Gandhi writes to his wife: \"You seem to have become completely infatuated\" Give up the idea of going to Nagpur to complete the course there . Permit Amtul Salaam to talk. It would be easy for me if you did so .\n",
            " PYARELAL writes to Sushila Nayyar that the whole misunderstanding arose because of my misguided imagination . The credit for every thing goes to the credit for everything goes to her firmness . If I lose you, I shall know myself as I really am .\n",
            " Dr. Sushila Nayyar: \"I was impelled solely by my terrible arrogance. Among all my colleagues I considered only myself entitled to break the restrictions of brahmacharya\" She wrote: \"With the exception of Ba I will not accept from any other woman any service involving physical contact\"\n",
            " N. M. JOSHI SEGAON: \"This Bill is a deadly poisonous pill coated with sugar\" Parulekar: \"Gandhi Cap Government\" has shown by its acts that they are not the friends of the poor\"\n",
            " You should overcome excessive greed and give up private business even if it is intended to help you in public vice . You should try to retire from politics . Your real field is altruistic business. Use all your ability for the Charkha Sangh. That activity can make full use of intellect, your moral qualities and your business acumen .\n",
            " The constant flow of mucus from the nose into the throat is not at all good . I am afraid that people have come to like obscene literature and it cannot, therefore, be easily stopped . I do believe that pornographic writings should be stopped by law if it can be done .\n",
            " Chimanlal had asked me whether or not to give you the figure . But you have the right to write whatever you like . The expenses here are certainly on a royal scale . The experiments in ghee, etc., also mean some expense .\n",
            " Amrit Kaur writes to Amrit in response to a letter addressed to me at Calcutta in which you wrote about a young graduate, went from place to place and was received only yesterday . I feel better and rested after reaching Segaon . I propose presently to take daily silence for a few hours .\n",
            " Chhaganlal JOSHI SEGAON: I can now clearly see that it was a fundamental error on my part to have deliberately excluded other coworkers from my experiment . I should have tried to get a class of workers who would be able to carry on the experiment in accordance with conditions laid down by me . My taking it upon myself was the result of abysmal ignorance and cer tainly of conceit .\n",
            " Pyarelal sent telegram to Beladevi Nayyar to say he is at peace with his decision . He would certainly like to have Sushila by his side . But he would not willingly permit you to keep out .\n",
            " Kantilal Gandhi writes to his brother, Amala, Devdas, Manilal and Ramdas . He writes: \"Your letters are to me, what the rain is to the chataka1. Saraswati was longing for you\"\n",
            " Pyarelal writes to Beladevi Nayyar: \"A great burden will be off my mind if Sushila returns to her original self and devotes herself to whatever she considers her duty\"\n",
            " PYARELAL SEVAGRAM: \"How can she be consoled? She seems to be hurt all the more by my letters\" \"I am willing to admit that I might have had a dirty mind. Can it not be that my diseased mind might have aroused me?\"\n",
            " Mahadev had guessed (wrongly) that something which I forget had happen ed on the basis of your talk with him . As it had not, and as Mahadeve had told me not to deliver it to you if his guess was wrong, I did the right thing . I have never enjoyed so much rest as Khan Saheb gives me. No visitors, no talks practically even on slips of paper . I shall look forward to your daily bulletin. We are flourishing .\n",
            " M. K. GANDHI writes to KHWAJA NAZIMUDDIN SEGAON, WARDHA, June 9, 1938 . He writes that the sentence referring to deeper conviction has been misunderstood .\n",
            " Indian Opinion should be kept going through advertisements . Advert isements should be used for increasing profits or for reducing subscription rate . Don't carry with you any worries about Sushila and the children .\n",
            "\n",
            "In year 1939, the following were the summaries obtained from the letters:\n",
            "\n",
            " Mahadev Desai wrote to Sir Sir Sir Maurice Goyer on March 27, 1939 . Desai repudiated the story regarding fraud . In \"The Rajkot FastVIII\", Pyarelal reports on March 26 .\n",
            " The report you have sent me of our talks is not worth revisiting . I have summarized below my thoughts on the subject, which may perhaps better clarify my attitude . The aim of my scheme is to change the very system of education .\n",
            " Rajkot Rajya Praja Pari shad, represented by the seven nominees, should have the right to dissent from the Committee's report . The dissenting report should be submitted to the Chief Justice of India as if the Parishad was represented on the Committee in terms of the Award .\n",
            " Jawaharlal Nehru was president of the AllIndia States People's Conference . Nehru wrote to the addressee expressing apology for the un seemly demonstration by Shias at Lahore Railway Station on July 26 .\n",
            " H. C. GIBSON RASHTRIYASHALa, Rajkot, writes to H. E. G. as follows: \"My actions especially my fasts are never taken mechanically. They are promptings of the inner call. The call to fast came to deal with an emergency. The strain of the fast is nothing compared to the uncertainty of the immediate future.\"\n",
            " Gandhiites will not obstruct you. They will help you where they can, they will abstain where they cannot. They may not suppress themselves if they are clearly in a majority . The other thing worrying me is the terrible distrust among ourselves. Joint work is an impossibility where workers distrust one another .\n",
            " Durbar Virawala is the virtual Ruler of Rajkot. He is utterly unreliable. He does not like the first Notification 4 . If he could, he would undo it by packing the Reforms Committee with a majority of his nominees .\n",
            " Gandhiji sent a brief reply to Amrit Kaur on July 6, 1939 . He said he had not been able to write to you as regularly as he had liked . The question of my retirement has been exploded for the time being .\n",
            " In Orissa things seem to be worst. Out of a total population of 75,000 souls in Talcher, 26,000 have been compelled by sufferings said to be indescribable to migrate to British Orissa. I feel that it is the clear duty of the Resident to see that the cause of this migration is investigated and redress given to the people .\n",
            " Rajkot Bhayats' Garasia Samaj was part of the KutchKathiawarGujarat Garasia Association . Gandhiji: \"No one who has got selfrespect can agree to this . You have given us a promise to give one seat to the Bhayat without any condition\"\n",
            "\n",
            "In year 1940, the following were the summaries obtained from the letters:\n",
            "\n",
            " Sushila Nayyar's father wrote to her: \"What a long letter and what a test! Had you been here, I would have caught you by the ears and even given you a couple of slaps\"\n",
            " The last two nights were very difficult for both of us. I kept on waking up at night and found her crying . She cried a lot for two nights. One night I sent Pyarelal to her twice and once I went myself and came back only after putting her to sleep . Vijaya 1 and Sharada 2 have arrived. Both of them have lost a lot of weight. I cannot bear to look at Sharada .\n",
            " The letter1 to Hitler also was prompted from within . There is no bitterness in it at all, but it certainly states what I believe to be truth . Your scepticism in this regard does not pain me. It is a virtue to see only the good in others. But if we see the bad and still cover it up, isn't that a vice?\n",
            " Mahadev Desai gave me your kind message which he has embodied in the full notes he prepared for me of his doings in Delhi . I should have thought that the correct position for a man like Mr. Gandhi to take would have been to address a manifesto to the people of India stating his own position .\n",
            " Dr. Sushila Nayyar's true place is in a large hospital and in your studies . Dr. Jivaraj was also happy to see you there . I have also told you to have your dissertation vetted .\n",
            " The war is taking an ugly turn. I cannot say I miss you. I seem to miss nobody and nothing. I have no time to think of these things. The burden I carry occupies the whole of my time. This is not to say that I would not like your return or that there is no work for you. But it [is] much more so now than ever. There is an inner longing for loneliness. I am keeping well here. Love.\n",
            " Dr. Sushila Nayyar: I understand what you say about the fast but the thing is not in my hands at all . Ramachandran 1 has written to Mahadev that he and Soundaram 2 have decided to marry, and that too at Sevagram if I permit . I wish you could be present at the wedding .\n",
            " Pyarelal wrote to Gandhiji: 'It dawned on me that I was following the path of untruth' 'I would consider it sinful to have Sushila principally as my physician' 'If I had not resorted to it, she would not possibly have come to her'\n",
            " Dr. Sushila Nayyar wrote a letter to Dr. Mahadev, asking him to return to the hospital . He replied: \"The dispensary was set up for your sake. I believed that you would get some satisfaction out of it\"\n",
            " M. K. G. L. G.'s letter to Hitler was published in the world in the manner I had intended . But I observe from your letter that the gag has been placed not for reasons of high policy but because, in His Excellency's opinion, my characterization of British rule is not true to facts . This is a dangerous doctrine, the logical result would be suppression of all honest opinion .\n",
            "\n",
            "In year 1941, the following were the summaries obtained from the letters:\n",
            "\n",
            " Dr. G. is taking so much interest in his case that he has suggested taking daily photographs . Half the improvement in Janakibehn's health is due to fasting . Rajkumari had rash on her body and itching . She remained on oranges and grapes for ten days . She was given milk last evening. The rash has disappeared .\n",
            " Raghuvansh Gaur had written: \"The file of the U.P. Agriculture Department which I had given to Rajkumari has been sent back to me without any intimation. I request you to let me know what is being done about it.\"\n",
            " Gandhiji wrote to ABUL KALAM AZAD BARDOLI that he had committed a grave error in the interpretation of the Bombay Resolution . He had interpreted it to mean that the Congress was to refuse participation in the present or all wars on the ground principally of nonviolence .\n",
            " M. K. G. LITHWAITE SEVAGRAM writes to SIR GILBERT . His Excellency's disagreement with you as to the estimate of the British connection was not the only reason for not complying with your request . Lithgow: Please regard this correspondence as closed .\n",
            " Iftikar wrote to IFTIKHARUDDIN SEVAGRAM, WARDHA, July 28, 1941 . I hope the District Committees will work so that Punjab may become proof against goondaism .\n",
            " Letter was in reply to appeal by the Mandal in Karachi requesting Gandhiji \"to sink the differences and unite for the attainment of India's politi cal freedom\"\n",
            " You may bring up Sita there as best as you can . Devdas and Ramdas bring up their children as they think best . If you are not convinced of the correctness of my advice, you may send her over .\n",
            " Gandhiji is agreeable to having the spinning and weaving of certi fied khadi test done by the A.I.S.A. appointees . He is in agreement with you that those who cannot afford to or for some legitimate reason are unable to present themselves before the appointed examiners .\n"
          ],
          "name": "stdout"
        }
      ]
    },
    {
      "cell_type": "code",
      "metadata": {
        "id": "dapvUrtaIF_A",
        "colab_type": "code",
        "colab": {
          "base_uri": "https://localhost:8080/",
          "height": 53
        },
        "outputId": "c0903361-7ea0-42dc-d773-51c275e9b3b9"
      },
      "source": [
        "summary[1][0]['summary_text']"
      ],
      "execution_count": 49,
      "outputs": [
        {
          "output_type": "execute_result",
          "data": {
            "application/vnd.google.colaboratory.intrinsic+json": {
              "type": "string"
            },
            "text/plain": [
              "' Amrit Kaur writes: \"Please tell Harijans that in the movement for selfpurifi cation that is going on at present, they are expected not to copy the vices and errors of the socalled caste Hindus\" \"Childmarriages are as common among them as among some caste Hindus,\" she writes .'"
            ]
          },
          "metadata": {
            "tags": []
          },
          "execution_count": 49
        }
      ]
    },
    {
      "cell_type": "code",
      "metadata": {
        "id": "Yp1krL0UKpPX",
        "colab_type": "code",
        "colab": {}
      },
      "source": [
        ""
      ],
      "execution_count": null,
      "outputs": []
    }
  ]
}